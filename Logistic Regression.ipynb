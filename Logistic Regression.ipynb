{
 "cells": [
  {
   "cell_type": "markdown",
   "metadata": {
    "colab_type": "text",
    "id": "0MRC0e0KhQ0S"
   },
   "source": [
    "### Experiment-5\n",
    "\n",
    "# Aim -Using Logistic Regression to analyse the Social_Network_Ads "
   ]
  },
  {
   "cell_type": "markdown",
   "metadata": {},
   "source": [
    "## Algorithm used:Logistic Regression algorithm\n",
    "\n",
    "* Logistic Regression is a Machine Learning classification algorithm that is used to predict the probability of a categorical dependent variable( binary classification).\n",
    "* It is a supervised learning classification algorithm which is used to predict observations to a discrete set of classes.\n",
    "* In logistic regression, the dependent variable is a binary variable that contains data coded as 1 (yes, success, etc.) or 0 (no, failure, etc.).\n"
   ]
  },
  {
   "cell_type": "markdown",
   "metadata": {},
   "source": [
    " ## PYTHON  CODE"
   ]
  },
  {
   "cell_type": "markdown",
   "metadata": {
    "colab_type": "text",
    "id": "LWd1UlMnhT2s"
   },
   "source": [
    "## Importing the libraries"
   ]
  },
  {
   "cell_type": "code",
   "execution_count": 17,
   "metadata": {
    "colab": {},
    "colab_type": "code",
    "id": "YvGPUQaHhXfL"
   },
   "outputs": [],
   "source": [
    "import numpy as np\n",
    "import matplotlib.pyplot as plt\n",
    "import pandas as pd\n",
    "import seaborn as sns"
   ]
  },
  {
   "cell_type": "markdown",
   "metadata": {
    "colab_type": "text",
    "id": "K1VMqkGvhc3-"
   },
   "source": [
    "## Importing the dataset"
   ]
  },
  {
   "cell_type": "code",
   "execution_count": 2,
   "metadata": {
    "colab": {},
    "colab_type": "code",
    "id": "M52QDmyzhh9s"
   },
   "outputs": [
    {
     "data": {
      "text/html": [
       "<div>\n",
       "<style scoped>\n",
       "    .dataframe tbody tr th:only-of-type {\n",
       "        vertical-align: middle;\n",
       "    }\n",
       "\n",
       "    .dataframe tbody tr th {\n",
       "        vertical-align: top;\n",
       "    }\n",
       "\n",
       "    .dataframe thead th {\n",
       "        text-align: right;\n",
       "    }\n",
       "</style>\n",
       "<table border=\"1\" class=\"dataframe\">\n",
       "  <thead>\n",
       "    <tr style=\"text-align: right;\">\n",
       "      <th></th>\n",
       "      <th>User ID</th>\n",
       "      <th>Gender</th>\n",
       "      <th>Age</th>\n",
       "      <th>EstimatedSalary</th>\n",
       "      <th>Purchased</th>\n",
       "    </tr>\n",
       "  </thead>\n",
       "  <tbody>\n",
       "    <tr>\n",
       "      <th>0</th>\n",
       "      <td>15624510</td>\n",
       "      <td>Male</td>\n",
       "      <td>19</td>\n",
       "      <td>19000</td>\n",
       "      <td>0</td>\n",
       "    </tr>\n",
       "    <tr>\n",
       "      <th>1</th>\n",
       "      <td>15810944</td>\n",
       "      <td>Male</td>\n",
       "      <td>35</td>\n",
       "      <td>20000</td>\n",
       "      <td>0</td>\n",
       "    </tr>\n",
       "    <tr>\n",
       "      <th>2</th>\n",
       "      <td>15668575</td>\n",
       "      <td>Female</td>\n",
       "      <td>26</td>\n",
       "      <td>43000</td>\n",
       "      <td>0</td>\n",
       "    </tr>\n",
       "    <tr>\n",
       "      <th>3</th>\n",
       "      <td>15603246</td>\n",
       "      <td>Female</td>\n",
       "      <td>27</td>\n",
       "      <td>57000</td>\n",
       "      <td>0</td>\n",
       "    </tr>\n",
       "    <tr>\n",
       "      <th>4</th>\n",
       "      <td>15804002</td>\n",
       "      <td>Male</td>\n",
       "      <td>19</td>\n",
       "      <td>76000</td>\n",
       "      <td>0</td>\n",
       "    </tr>\n",
       "  </tbody>\n",
       "</table>\n",
       "</div>"
      ],
      "text/plain": [
       "    User ID  Gender  Age  EstimatedSalary  Purchased\n",
       "0  15624510    Male   19            19000          0\n",
       "1  15810944    Male   35            20000          0\n",
       "2  15668575  Female   26            43000          0\n",
       "3  15603246  Female   27            57000          0\n",
       "4  15804002    Male   19            76000          0"
      ]
     },
     "execution_count": 2,
     "metadata": {},
     "output_type": "execute_result"
    }
   ],
   "source": [
    "dataset = pd.read_csv('datasets/Social_Network_Ads.csv')\n",
    "dataset.head()\n"
   ]
  },
  {
   "cell_type": "code",
   "execution_count": 3,
   "metadata": {},
   "outputs": [],
   "source": [
    "x = dataset.loc[:, [\"Age\",\"EstimatedSalary\"]]\n",
    "y = dataset.iloc[:, -1]"
   ]
  },
  {
   "cell_type": "code",
   "execution_count": 4,
   "metadata": {},
   "outputs": [
    {
     "data": {
      "text/plain": [
       "0      0\n",
       "1      0\n",
       "2      0\n",
       "3      0\n",
       "4      0\n",
       "      ..\n",
       "395    1\n",
       "396    1\n",
       "397    1\n",
       "398    0\n",
       "399    1\n",
       "Name: Purchased, Length: 400, dtype: int64"
      ]
     },
     "execution_count": 4,
     "metadata": {},
     "output_type": "execute_result"
    }
   ],
   "source": [
    "y"
   ]
  },
  {
   "cell_type": "code",
   "execution_count": 5,
   "metadata": {
    "scrolled": true
   },
   "outputs": [
    {
     "data": {
      "text/html": [
       "<div>\n",
       "<style scoped>\n",
       "    .dataframe tbody tr th:only-of-type {\n",
       "        vertical-align: middle;\n",
       "    }\n",
       "\n",
       "    .dataframe tbody tr th {\n",
       "        vertical-align: top;\n",
       "    }\n",
       "\n",
       "    .dataframe thead th {\n",
       "        text-align: right;\n",
       "    }\n",
       "</style>\n",
       "<table border=\"1\" class=\"dataframe\">\n",
       "  <thead>\n",
       "    <tr style=\"text-align: right;\">\n",
       "      <th></th>\n",
       "      <th>Age</th>\n",
       "      <th>EstimatedSalary</th>\n",
       "    </tr>\n",
       "  </thead>\n",
       "  <tbody>\n",
       "    <tr>\n",
       "      <th>0</th>\n",
       "      <td>19</td>\n",
       "      <td>19000</td>\n",
       "    </tr>\n",
       "    <tr>\n",
       "      <th>1</th>\n",
       "      <td>35</td>\n",
       "      <td>20000</td>\n",
       "    </tr>\n",
       "    <tr>\n",
       "      <th>2</th>\n",
       "      <td>26</td>\n",
       "      <td>43000</td>\n",
       "    </tr>\n",
       "    <tr>\n",
       "      <th>3</th>\n",
       "      <td>27</td>\n",
       "      <td>57000</td>\n",
       "    </tr>\n",
       "    <tr>\n",
       "      <th>4</th>\n",
       "      <td>19</td>\n",
       "      <td>76000</td>\n",
       "    </tr>\n",
       "    <tr>\n",
       "      <th>...</th>\n",
       "      <td>...</td>\n",
       "      <td>...</td>\n",
       "    </tr>\n",
       "    <tr>\n",
       "      <th>395</th>\n",
       "      <td>46</td>\n",
       "      <td>41000</td>\n",
       "    </tr>\n",
       "    <tr>\n",
       "      <th>396</th>\n",
       "      <td>51</td>\n",
       "      <td>23000</td>\n",
       "    </tr>\n",
       "    <tr>\n",
       "      <th>397</th>\n",
       "      <td>50</td>\n",
       "      <td>20000</td>\n",
       "    </tr>\n",
       "    <tr>\n",
       "      <th>398</th>\n",
       "      <td>36</td>\n",
       "      <td>33000</td>\n",
       "    </tr>\n",
       "    <tr>\n",
       "      <th>399</th>\n",
       "      <td>49</td>\n",
       "      <td>36000</td>\n",
       "    </tr>\n",
       "  </tbody>\n",
       "</table>\n",
       "<p>400 rows × 2 columns</p>\n",
       "</div>"
      ],
      "text/plain": [
       "     Age  EstimatedSalary\n",
       "0     19            19000\n",
       "1     35            20000\n",
       "2     26            43000\n",
       "3     27            57000\n",
       "4     19            76000\n",
       "..   ...              ...\n",
       "395   46            41000\n",
       "396   51            23000\n",
       "397   50            20000\n",
       "398   36            33000\n",
       "399   49            36000\n",
       "\n",
       "[400 rows x 2 columns]"
      ]
     },
     "execution_count": 5,
     "metadata": {},
     "output_type": "execute_result"
    }
   ],
   "source": [
    "x"
   ]
  },
  {
   "cell_type": "markdown",
   "metadata": {
    "colab_type": "text",
    "id": "YvxIPVyMhmKp"
   },
   "source": [
    "## Splitting the dataset into the Training set and Test set"
   ]
  },
  {
   "cell_type": "code",
   "execution_count": 6,
   "metadata": {
    "colab": {},
    "colab_type": "code",
    "id": "AVzJWAXIhxoC"
   },
   "outputs": [],
   "source": [
    "from sklearn.model_selection import train_test_split\n",
    "x_train, x_test, y_train, y_test = train_test_split(x, y, test_size = 0.3,random_state=52)"
   ]
  },
  {
   "cell_type": "code",
   "execution_count": 7,
   "metadata": {},
   "outputs": [
    {
     "data": {
      "text/html": [
       "<div>\n",
       "<style scoped>\n",
       "    .dataframe tbody tr th:only-of-type {\n",
       "        vertical-align: middle;\n",
       "    }\n",
       "\n",
       "    .dataframe tbody tr th {\n",
       "        vertical-align: top;\n",
       "    }\n",
       "\n",
       "    .dataframe thead th {\n",
       "        text-align: right;\n",
       "    }\n",
       "</style>\n",
       "<table border=\"1\" class=\"dataframe\">\n",
       "  <thead>\n",
       "    <tr style=\"text-align: right;\">\n",
       "      <th></th>\n",
       "      <th>Age</th>\n",
       "      <th>EstimatedSalary</th>\n",
       "    </tr>\n",
       "  </thead>\n",
       "  <tbody>\n",
       "    <tr>\n",
       "      <th>41</th>\n",
       "      <td>33</td>\n",
       "      <td>51000</td>\n",
       "    </tr>\n",
       "    <tr>\n",
       "      <th>115</th>\n",
       "      <td>40</td>\n",
       "      <td>57000</td>\n",
       "    </tr>\n",
       "    <tr>\n",
       "      <th>85</th>\n",
       "      <td>31</td>\n",
       "      <td>118000</td>\n",
       "    </tr>\n",
       "    <tr>\n",
       "      <th>308</th>\n",
       "      <td>36</td>\n",
       "      <td>125000</td>\n",
       "    </tr>\n",
       "    <tr>\n",
       "      <th>194</th>\n",
       "      <td>28</td>\n",
       "      <td>89000</td>\n",
       "    </tr>\n",
       "    <tr>\n",
       "      <th>...</th>\n",
       "      <td>...</td>\n",
       "      <td>...</td>\n",
       "    </tr>\n",
       "    <tr>\n",
       "      <th>86</th>\n",
       "      <td>24</td>\n",
       "      <td>55000</td>\n",
       "    </tr>\n",
       "    <tr>\n",
       "      <th>151</th>\n",
       "      <td>41</td>\n",
       "      <td>45000</td>\n",
       "    </tr>\n",
       "    <tr>\n",
       "      <th>13</th>\n",
       "      <td>32</td>\n",
       "      <td>18000</td>\n",
       "    </tr>\n",
       "    <tr>\n",
       "      <th>267</th>\n",
       "      <td>37</td>\n",
       "      <td>74000</td>\n",
       "    </tr>\n",
       "    <tr>\n",
       "      <th>156</th>\n",
       "      <td>46</td>\n",
       "      <td>59000</td>\n",
       "    </tr>\n",
       "  </tbody>\n",
       "</table>\n",
       "<p>280 rows × 2 columns</p>\n",
       "</div>"
      ],
      "text/plain": [
       "     Age  EstimatedSalary\n",
       "41    33            51000\n",
       "115   40            57000\n",
       "85    31           118000\n",
       "308   36           125000\n",
       "194   28            89000\n",
       "..   ...              ...\n",
       "86    24            55000\n",
       "151   41            45000\n",
       "13    32            18000\n",
       "267   37            74000\n",
       "156   46            59000\n",
       "\n",
       "[280 rows x 2 columns]"
      ]
     },
     "execution_count": 7,
     "metadata": {},
     "output_type": "execute_result"
    }
   ],
   "source": [
    "x_train"
   ]
  },
  {
   "cell_type": "markdown",
   "metadata": {
    "colab_type": "text",
    "id": "kW3c7UYih0hT"
   },
   "source": [
    "## Feature Scaling"
   ]
  },
  {
   "cell_type": "code",
   "execution_count": 8,
   "metadata": {
    "colab": {},
    "colab_type": "code",
    "id": "9fQlDPKCh8sc"
   },
   "outputs": [],
   "source": [
    "from sklearn.preprocessing import StandardScaler\n",
    "sc = StandardScaler()\n",
    "x_train = sc.fit_transform(x_train)\n",
    "x_test = sc.fit_transform(x_test)"
   ]
  },
  {
   "cell_type": "code",
   "execution_count": 9,
   "metadata": {},
   "outputs": [
    {
     "data": {
      "text/plain": [
       "array([[-0.97854158, -0.47975379],\n",
       "       [-0.00486837, -0.45024561],\n",
       "       [-1.75748016,  0.16942612],\n",
       "       [ 0.38460092, -0.53877015],\n",
       "       [ 0.77407021, -1.42401548],\n",
       "       [-1.46537819, -1.27647459],\n",
       "       [ 1.06617217, -1.09942552],\n",
       "       [-0.39433765, -0.03713112],\n",
       "       [-0.68643962,  0.25795065],\n",
       "       [ 0.48196824,  0.28745883],\n",
       "       [-1.0759089 ,  0.28745883],\n",
       "       [ 1.06617217,  0.11040977],\n",
       "       [-1.56274551, -0.0666393 ],\n",
       "       [-1.17327623,  0.25795065],\n",
       "       [ 0.38460092,  0.25795065],\n",
       "       [ 0.18986628,  1.88090043],\n",
       "       [-0.00486837,  0.28745883],\n",
       "       [ 0.18986628, -0.27319655],\n",
       "       [ 1.16353949,  0.55303243],\n",
       "       [ 0.09249896,  0.28745883],\n",
       "       [ 0.38460092,  0.05139341],\n",
       "       [ 0.87143753, -1.42401548],\n",
       "       [ 0.38460092,  0.28745883],\n",
       "       [-0.49170497,  1.91040861],\n",
       "       [-0.00486837, -1.09942552],\n",
       "       [-0.78380694,  0.37598337],\n",
       "       [ 0.2872336 , -0.15516383],\n",
       "       [ 1.06617217,  1.7923759 ],\n",
       "       [-0.39433765, -0.80434375],\n",
       "       [-1.0759089 , -1.1289337 ],\n",
       "       [-0.19960301, -1.48303184],\n",
       "       [ 2.03984539, -0.68631104],\n",
       "       [ 1.45564146,  2.35303128],\n",
       "       [-1.17327623, -1.42401548],\n",
       "       [-1.66011283,  0.11040977],\n",
       "       [ 0.48196824,  0.58254061],\n",
       "       [-0.19960301, -0.39122926],\n",
       "       [ 0.38460092,  0.49401608],\n",
       "       [-0.78380694, -0.80434375],\n",
       "       [-0.00486837,  1.96942497],\n",
       "       [ 0.18986628,  0.75958968],\n",
       "       [-0.88117426, -0.45024561],\n",
       "       [-0.68643962,  1.34975323],\n",
       "       [-1.85484748,  0.4645079 ],\n",
       "       [ 1.06617217, -1.21745824],\n",
       "       [-1.0759089 ,  0.40549154],\n",
       "       [ 0.48196824,  0.28745883],\n",
       "       [ 0.18986628,  0.02188523],\n",
       "       [ 0.87143753, -1.1289337 ],\n",
       "       [-0.88117426,  0.40549154],\n",
       "       [-1.0759089 , -0.53877015],\n",
       "       [-0.10223569,  1.40876959],\n",
       "       [ 0.87143753,  1.37926141],\n",
       "       [-0.88117426,  0.25795065],\n",
       "       [ 1.74774342,  1.61532683],\n",
       "       [ 1.16353949, -1.24696641],\n",
       "       [ 1.35827414,  1.88090043],\n",
       "       [ 0.48196824,  0.9956551 ],\n",
       "       [-1.66011283, -1.01090099],\n",
       "       [-1.66011283,  0.34647519],\n",
       "       [-0.10223569,  0.13991794],\n",
       "       [ 0.09249896,  1.2612287 ],\n",
       "       [ 0.2872336 ,  0.02188523],\n",
       "       [-0.68643962,  1.08417963],\n",
       "       [-0.19960301,  0.13991794],\n",
       "       [-0.39433765, -0.30270472],\n",
       "       [ 0.87143753,  0.11040977],\n",
       "       [ 0.48196824,  2.3235231 ],\n",
       "       [-1.36801087, -0.12565566],\n",
       "       [-0.19960301, -0.30270472],\n",
       "       [ 1.26090682, -1.01090099],\n",
       "       [ 0.18986628, -0.83385192],\n",
       "       [ 0.96880485, -1.48303184],\n",
       "       [ 1.6503761 , -0.00762295],\n",
       "       [ 0.87143753, -0.8633601 ],\n",
       "       [ 0.77407021,  1.7923759 ],\n",
       "       [ 0.96880485, -0.5977865 ],\n",
       "       [-0.10223569, -0.53877015],\n",
       "       [-1.46537819, -0.21418019],\n",
       "       [-1.27064355,  0.40549154],\n",
       "       [-0.00486837,  0.67106514],\n",
       "       [-0.5890723 ,  0.02188523],\n",
       "       [ 0.77407021, -1.42401548],\n",
       "       [ 0.48196824,  0.25795065],\n",
       "       [-0.88117426,  0.49401608],\n",
       "       [-0.10223569, -0.21418019],\n",
       "       [-1.0759089 , -1.63057272],\n",
       "       [ 0.96880485, -1.18795006],\n",
       "       [-0.97854158, -1.48303184],\n",
       "       [ 0.18986628, -0.3322129 ],\n",
       "       [-0.88117426, -0.77483557],\n",
       "       [ 0.38460092,  0.05139341],\n",
       "       [ 0.18986628,  0.02188523],\n",
       "       [-0.97854158, -0.39122926],\n",
       "       [-1.75748016, -1.30598277],\n",
       "       [ 1.06617217,  0.75958968],\n",
       "       [-0.5890723 , -1.06991735],\n",
       "       [ 1.74774342, -0.92237646],\n",
       "       [-0.49170497,  0.87762239],\n",
       "       [ 1.55300878,  0.34647519],\n",
       "       [-0.19960301,  1.11368781],\n",
       "       [-0.19960301,  0.25795065],\n",
       "       [-0.97854158,  0.40549154],\n",
       "       [-0.19960301, -1.27647459],\n",
       "       [ 0.57933556,  1.73335954],\n",
       "       [ 2.13721271,  0.52352425],\n",
       "       [ 1.45564146,  1.99893314],\n",
       "       [ 0.96880485, -0.56827832],\n",
       "       [-0.19960301, -0.5977865 ],\n",
       "       [-1.27064355, -1.3945073 ],\n",
       "       [ 1.06617217, -0.8633601 ],\n",
       "       [ 2.23458003,  0.37598337],\n",
       "       [-1.46537819, -1.54204819],\n",
       "       [-0.19960301,  2.26450674],\n",
       "       [ 1.84511075,  0.9956551 ],\n",
       "       [-1.0759089 ,  1.40876959],\n",
       "       [-1.0759089 , -1.60106455],\n",
       "       [ 1.94247807, -0.30270472],\n",
       "       [-1.75748016, -1.51254001],\n",
       "       [-0.19960301, -0.68631104]])"
      ]
     },
     "execution_count": 9,
     "metadata": {},
     "output_type": "execute_result"
    }
   ],
   "source": [
    "x_test"
   ]
  },
  {
   "cell_type": "code",
   "execution_count": 10,
   "metadata": {
    "colab": {
     "base_uri": "https://localhost:8080/",
     "height": 1000
    },
    "colab_type": "code",
    "executionInfo": {
     "elapsed": 2133,
     "status": "ok",
     "timestamp": 1588265315504,
     "user": {
      "displayName": "Hadelin de Ponteves",
      "photoUrl": "https://lh3.googleusercontent.com/a-/AOh14GhEuXdT7eQweUmRPW8_laJuPggSK6hfvpl5a6WBaA=s64",
      "userId": "15047218817161520419"
     },
     "user_tz": -240
    },
    "id": "JUd6iBRp2C3L",
    "outputId": "3ed7b1f1-8fb7-48bc-8df8-39b6f65081ae"
   },
   "outputs": [
    {
     "name": "stdout",
     "output_type": "stream",
     "text": [
      "[[-0.46609899 -0.54279119]\n",
      " [ 0.19782108 -0.36695448]\n",
      " [-0.65579044  1.42071879]\n",
      " [-0.18156182  1.62586163]\n",
      " [-0.94032761  0.57084134]\n",
      " [ 0.00812963  0.04333119]\n",
      " [-0.75063616 -1.59781149]\n",
      " [ 0.48235826  1.24488208]\n",
      " [ 0.29266681  0.07263731]\n",
      " [-0.08671609  0.16055567]\n",
      " [-0.18156182  1.65516775]\n",
      " [ 0.29266681 -0.30834224]\n",
      " [-0.27640754 -0.74793403]\n",
      " [-0.84548189  0.39500462]\n",
      " [-1.13001906 -0.77724015]\n",
      " [-1.31971051  0.57084134]\n",
      " [-1.41455623 -1.21683194]\n",
      " [-1.88878485 -0.51348507]\n",
      " [-0.27640754 -1.39266865]\n",
      " [ 1.4308155   2.15337177]\n",
      " [-1.13001906 -1.53919925]\n",
      " [-0.75063616  1.91892282]\n",
      " [-0.37125326  1.33280044]\n",
      " [ 1.52566122  1.01043312]\n",
      " [ 1.71535267 -0.27903612]\n",
      " [ 0.19782108  0.16055567]\n",
      " [ 1.0514326  -0.89446462]\n",
      " [ 2.09473557  1.1276576 ]\n",
      " [-1.03517333  1.97753506]\n",
      " [ 1.0514326  -1.21683194]\n",
      " [-1.79393913 -1.42197477]\n",
      " [-0.84548189 -1.21683194]\n",
      " [ 0.00812963 -0.57209731]\n",
      " [ 0.29266681 -0.27903612]\n",
      " [-0.08671609  0.27778014]\n",
      " [ 1.99988985  2.15337177]\n",
      " [-1.22486478  0.5122291 ]\n",
      " [-1.22486478 -1.07030134]\n",
      " [ 0.19782108 -0.27903612]\n",
      " [-1.13001906 -1.0116891 ]\n",
      " [ 0.76689543 -1.36336253]\n",
      " [ 0.29266681 -0.19111776]\n",
      " [ 1.0514326  -0.13250552]\n",
      " [ 1.14627833  0.54153522]\n",
      " [ 1.0514326   0.48292298]\n",
      " [ 0.95658688  1.45002491]\n",
      " [-0.27640754  0.54153522]\n",
      " [ 1.62050695  1.77239222]\n",
      " [-0.27640754  0.04333119]\n",
      " [-1.69909341 -1.36336253]\n",
      " [-0.08671609  0.21916791]\n",
      " [-0.65579044 -1.59781149]\n",
      " [-1.41455623 -0.19111776]\n",
      " [ 1.90504412  2.18267789]\n",
      " [ 1.14627833 -0.74793403]\n",
      " [ 0.86174115 -0.60140343]\n",
      " [ 1.90504412  0.92251477]\n",
      " [-0.65579044  0.18986179]\n",
      " [-0.84548189  0.30708626]\n",
      " [-0.94032761 -0.30834224]\n",
      " [ 0.00812963 -0.57209731]\n",
      " [ 1.33596977  1.30349432]\n",
      " [-1.41455623 -0.63070955]\n",
      " [-1.50940196  0.33639238]\n",
      " [ 1.4308155   1.01043312]\n",
      " [ 1.33596977 -1.42197477]\n",
      " [ 0.10297536  1.8896167 ]\n",
      " [ 1.0514326  -0.98238298]\n",
      " [ 0.00812963 -0.42556672]\n",
      " [ 0.48235826  1.86031058]\n",
      " [-0.46609899 -1.12891358]\n",
      " [ 1.33596977  0.60014746]\n",
      " [-0.08671609  0.01402507]\n",
      " [-1.31971051 -1.24613805]\n",
      " [-0.27640754  0.10194343]\n",
      " [ 0.19782108 -0.36695448]\n",
      " [ 0.19782108 -0.36695448]\n",
      " [ 0.76689543  0.77598417]\n",
      " [-1.13001906  0.48292298]\n",
      " [-0.08671609  2.24129013]\n",
      " [ 1.90504412  0.74667805]\n",
      " [ 0.86174115 -0.77724015]\n",
      " [ 1.24112405  2.24129013]\n",
      " [-0.75063616 -0.60140343]\n",
      " [ 0.10297536  1.06904536]\n",
      " [-0.08671609  0.04333119]\n",
      " [-0.27640754 -1.36336253]\n",
      " [ 0.00812963 -0.24973   ]\n",
      " [-0.27640754  0.16055567]\n",
      " [ 0.10297536  0.21916791]\n",
      " [-0.18156182  0.86390253]\n",
      " [ 1.24112405 -1.36336253]\n",
      " [-0.94032761  0.45361686]\n",
      " [ 0.86174115  1.2741882 ]\n",
      " [-0.08671609  2.18267789]\n",
      " [ 0.19782108 -0.24973   ]\n",
      " [ 1.52566122 -1.27544417]\n",
      " [-1.03517333  0.57084134]\n",
      " [ 1.4308155  -1.04099522]\n",
      " [ 0.95658688 -1.0116891 ]\n",
      " [ 1.8101984   0.13124955]\n",
      " [-0.08671609  0.30708626]\n",
      " [-0.56094471 -1.50989313]\n",
      " [ 0.38751253  0.10194343]\n",
      " [ 1.8101984  -1.07030134]\n",
      " [-1.50940196 -0.42556672]\n",
      " [-0.84548189  0.16055567]\n",
      " [ 0.29266681  0.07263731]\n",
      " [-0.75063616  0.57084134]\n",
      " [ 1.99988985  1.77239222]\n",
      " [ 0.76689543  0.3656985 ]\n",
      " [-0.46609899  2.32920849]\n",
      " [ 0.10297536  1.53794327]\n",
      " [-1.03517333 -1.53919925]\n",
      " [-0.56094471  1.39141267]\n",
      " [-1.22486478  0.60014746]\n",
      " [ 0.86174115 -1.04099522]\n",
      " [-1.03517333  0.54153522]\n",
      " [ 0.86174115 -0.66001567]\n",
      " [-1.41455623  0.3656985 ]\n",
      " [ 1.8101984  -1.27544417]\n",
      " [ 0.6720497  -1.09960746]\n",
      " [ 1.14627833 -1.45128089]\n",
      " [ 0.10297536  0.10194343]\n",
      " [-0.65579044 -0.10319941]\n",
      " [-1.13001906 -1.59781149]\n",
      " [-0.08671609 -0.51348507]\n",
      " [-0.84548189  2.29990237]\n",
      " [ 0.95658688  0.60014746]\n",
      " [-0.27640754 -0.57209731]\n",
      " [-0.27640754  0.21916791]\n",
      " [-0.27640754 -0.42556672]\n",
      " [-0.27640754  0.07263731]\n",
      " [-1.03517333 -0.33764836]\n",
      " [ 2.09473557 -0.68932179]\n",
      " [-1.60424768 -1.56850537]\n",
      " [-0.65579044 -0.04458717]\n",
      " [-0.65579044 -0.33764836]\n",
      " [ 1.0514326   0.54153522]\n",
      " [ 0.38751253 -0.45487284]\n",
      " [-1.22486478  0.30708626]\n",
      " [ 1.90504412 -0.92377074]\n",
      " [-1.13001906  0.30708626]\n",
      " [-0.75063616  0.30708626]\n",
      " [ 0.86174115 -1.36336253]\n",
      " [ 0.95658688 -1.1582197 ]\n",
      " [-1.13001906  0.33639238]\n",
      " [-0.84548189 -0.66001567]\n",
      " [-0.84548189 -0.77724015]\n",
      " [-0.08671609  0.07263731]\n",
      " [-0.27640754 -0.30834224]\n",
      " [ 0.00812963 -0.13250552]\n",
      " [-0.46609899  1.2741882 ]\n",
      " [-1.69909341  0.48292298]\n",
      " [-1.41455623 -1.45128089]\n",
      " [-0.37125326  1.24488208]\n",
      " [ 0.86174115  1.09835148]\n",
      " [-0.37125326  0.07263731]\n",
      " [-1.69909341  0.3656985 ]\n",
      " [-0.18156182 -0.57209731]\n",
      " [ 0.76689543 -1.21683194]\n",
      " [ 0.38751253 -0.16181164]\n",
      " [ 0.10297536  0.27778014]\n",
      " [ 0.10297536 -0.80654627]\n",
      " [ 1.0514326   2.09475954]\n",
      " [-1.88878485 -0.74793403]\n",
      " [ 0.29266681 -1.1582197 ]\n",
      " [-1.79393913  0.01402507]\n",
      " [-0.27640754  0.07263731]\n",
      " [ 1.99988985  0.18986179]\n",
      " [-0.75063616  0.5122291 ]\n",
      " [ 0.6720497  -0.71862791]\n",
      " [-1.31971051 -1.48058701]\n",
      " [ 0.95658688  1.8896167 ]\n",
      " [ 0.95658688  2.00684118]\n",
      " [-1.03517333  0.77598417]\n",
      " [-0.37125326 -1.30475029]\n",
      " [-1.31971051 -1.09960746]\n",
      " [ 1.8101984   1.53794327]\n",
      " [ 0.00812963 -0.24973   ]\n",
      " [ 0.19782108  2.12406565]\n",
      " [ 0.19782108  1.09835148]\n",
      " [-0.56094471  0.48292298]\n",
      " [ 0.86174115  1.03973924]\n",
      " [-0.65579044 -1.50989313]\n",
      " [ 0.38751253 -0.13250552]\n",
      " [ 2.09473557 -0.80654627]\n",
      " [-0.27640754 -0.89446462]\n",
      " [-0.08671609 -0.48417896]\n",
      " [-0.94032761 -0.95307686]\n",
      " [-1.60424768  0.07263731]\n",
      " [-0.27640754 -1.30475029]\n",
      " [-0.18156182 -1.07030134]\n",
      " [-0.46609899 -1.21683194]\n",
      " [-0.94032761  1.56724939]\n",
      " [-1.13001906 -1.1582197 ]\n",
      " [-1.88878485  0.3656985 ]\n",
      " [ 0.76689543  0.54153522]\n",
      " [ 2.09473557 -1.04099522]\n",
      " [-0.27640754  0.62945357]\n",
      " [-0.56094471  2.35851461]\n",
      " [-0.75063616 -0.22042388]\n",
      " [ 0.95658688 -1.07030134]\n",
      " [-0.27640754  0.80529029]\n",
      " [ 1.52566122  1.1276576 ]\n",
      " [-0.56094471  1.39141267]\n",
      " [-0.18156182 -0.45487284]\n",
      " [ 0.10297536  0.16055567]\n",
      " [ 0.38751253 -0.45487284]\n",
      " [ 1.0514326   0.13124955]\n",
      " [-0.27640754 -0.48417896]\n",
      " [ 0.57720398  2.0361473 ]\n",
      " [-0.08671609 -0.22042388]\n",
      " [ 0.38751253 -0.13250552]\n",
      " [ 0.76689543  0.27778014]\n",
      " [-1.31971051 -0.42556672]\n",
      " [-0.37125326 -0.77724015]\n",
      " [ 0.95658688  2.09475954]\n",
      " [-1.79393913  0.45361686]\n",
      " [ 0.38751253 -0.48417896]\n",
      " [ 2.09473557 -0.80654627]\n",
      " [-0.27640754 -0.13250552]\n",
      " [-1.60424768  0.54153522]\n",
      " [ 0.29266681  0.04333119]\n",
      " [-0.84548189 -0.24973   ]\n",
      " [ 0.86174115  2.18267789]\n",
      " [ 0.29266681 -0.51348507]\n",
      " [-0.46609899 -0.83585239]\n",
      " [-1.88878485 -0.04458717]\n",
      " [ 0.19782108  0.16055567]\n",
      " [ 1.99988985 -1.18752582]\n",
      " [ 0.19782108  0.24847403]\n",
      " [-0.27640754 -0.24973   ]\n",
      " [ 0.19782108 -0.30834224]\n",
      " [ 0.00812963 -0.54279119]\n",
      " [ 0.6720497  -1.27544417]\n",
      " [ 0.38751253  1.1276576 ]\n",
      " [-0.65579044  0.57084134]\n",
      " [-0.65579044  0.13124955]\n",
      " [-1.13001906  0.07263731]\n",
      " [ 0.29266681 -0.54279119]\n",
      " [ 1.4308155   0.07263731]\n",
      " [-0.75063616 -1.53919925]\n",
      " [ 0.19782108 -0.66001567]\n",
      " [-0.27640754 -0.33764836]\n",
      " [ 2.09473557  0.95182089]\n",
      " [-1.69909341 -0.60140343]\n",
      " [-0.94032761 -0.30834224]\n",
      " [-1.31971051 -0.33764836]\n",
      " [-0.18156182 -0.27903612]\n",
      " [ 1.99988985  0.39500462]\n",
      " [ 1.99988985 -0.80654627]\n",
      " [-1.03517333  0.60014746]\n",
      " [ 0.00812963  0.04333119]\n",
      " [-0.56094471  1.47933103]\n",
      " [ 1.90504412 -1.36336253]\n",
      " [ 0.38751253  0.16055567]\n",
      " [ 1.33596977 -0.92377074]\n",
      " [ 0.19782108  0.07263731]\n",
      " [-1.03517333 -1.12891358]\n",
      " [ 0.38751253  0.01402507]\n",
      " [-0.37125326 -0.77724015]\n",
      " [-0.94032761 -1.09960746]\n",
      " [ 0.6720497   0.27778014]\n",
      " [-1.03517333 -0.33764836]\n",
      " [-1.79393913 -1.30475029]\n",
      " [ 0.86174115 -1.30475029]\n",
      " [ 0.00812963 -0.30834224]\n",
      " [-0.18156182  2.18267789]\n",
      " [-0.08671609  0.24847403]\n",
      " [ 1.71535267  1.86031058]\n",
      " [-0.08671609 -0.36695448]\n",
      " [-0.27640754 -0.92377074]\n",
      " [ 0.57720398 -0.89446462]\n",
      " [ 0.00812963  1.24488208]\n",
      " [-1.31971051 -0.42556672]\n",
      " [ 0.29266681 -0.71862791]\n",
      " [-0.56094471 -1.50989313]\n",
      " [-0.08671609  0.13124955]\n",
      " [ 0.76689543 -0.30834224]]\n"
     ]
    }
   ],
   "source": [
    "print(x_train)"
   ]
  },
  {
   "cell_type": "markdown",
   "metadata": {
    "colab_type": "text",
    "id": "bb6jCOCQiAmP"
   },
   "source": [
    "## Training the Logistic Regression model on the Training set"
   ]
  },
  {
   "cell_type": "code",
   "execution_count": 11,
   "metadata": {
    "colab": {
     "base_uri": "https://localhost:8080/",
     "height": 103
    },
    "colab_type": "code",
    "executionInfo": {
     "elapsed": 2125,
     "status": "ok",
     "timestamp": 1588265315505,
     "user": {
      "displayName": "Hadelin de Ponteves",
      "photoUrl": "https://lh3.googleusercontent.com/a-/AOh14GhEuXdT7eQweUmRPW8_laJuPggSK6hfvpl5a6WBaA=s64",
      "userId": "15047218817161520419"
     },
     "user_tz": -240
    },
    "id": "e0pFVAmciHQs",
    "outputId": "67f64468-abdb-4fe7-cce9-de0037119610"
   },
   "outputs": [
    {
     "data": {
      "text/plain": [
       "LogisticRegression()"
      ]
     },
     "execution_count": 11,
     "metadata": {},
     "output_type": "execute_result"
    }
   ],
   "source": [
    "from sklearn.linear_model import LogisticRegression\n",
    "classifier = LogisticRegression()\n",
    "classifier.fit(x_train, y_train)"
   ]
  },
  {
   "cell_type": "markdown",
   "metadata": {
    "colab_type": "text",
    "id": "yyxW5b395mR2"
   },
   "source": [
    "## Predicting a new result"
   ]
  },
  {
   "cell_type": "code",
   "execution_count": 12,
   "metadata": {
    "colab": {
     "base_uri": "https://localhost:8080/",
     "height": 34
    },
    "colab_type": "code",
    "executionInfo": {
     "elapsed": 2118,
     "status": "ok",
     "timestamp": 1588265315505,
     "user": {
      "displayName": "Hadelin de Ponteves",
      "photoUrl": "https://lh3.googleusercontent.com/a-/AOh14GhEuXdT7eQweUmRPW8_laJuPggSK6hfvpl5a6WBaA=s64",
      "userId": "15047218817161520419"
     },
     "user_tz": -240
    },
    "id": "f8YOXsQy58rP",
    "outputId": "2e1b0063-548e-4924-cf3a-93a79d97e35e"
   },
   "outputs": [
    {
     "name": "stdout",
     "output_type": "stream",
     "text": [
      "[0]\n"
     ]
    }
   ],
   "source": [
    "#print(classifier.predict(sc.transform([[30,87000]])))  # After Standardization\n",
    "print(classifier.predict(sc.transform([[19,50000]])))  # After Normalization\n",
    "#print(classifier.predict([[,]]))# No Standardiation and Normalization"
   ]
  },
  {
   "cell_type": "code",
   "execution_count": 13,
   "metadata": {},
   "outputs": [
    {
     "data": {
      "text/plain": [
       "array([0, 0, 0, 0, 1, 0, 1, 0, 0, 0, 0, 1, 0, 0, 0, 1, 0, 0, 1, 0, 0, 0,\n",
       "       0, 1, 0, 0, 0, 1, 0, 0, 0, 1, 1, 0, 0, 1, 0, 1, 0, 1, 1, 0, 0, 0,\n",
       "       1, 0, 1, 0, 1, 0, 0, 1, 1, 0, 1, 1, 0, 1, 0, 0, 0, 1, 1, 1, 0, 0,\n",
       "       0, 1, 0, 0, 1, 0, 1, 1, 1, 1, 1, 0, 0, 0, 1, 0, 1, 0, 0, 0, 0, 1,\n",
       "       0, 0, 0, 0, 0, 0, 0, 1, 0, 1, 1, 1, 0, 0, 0, 0, 1, 1, 1, 1, 0, 0,\n",
       "       1, 1, 0, 1, 1, 0, 0, 1, 0, 0], dtype=int64)"
      ]
     },
     "execution_count": 13,
     "metadata": {},
     "output_type": "execute_result"
    }
   ],
   "source": [
    "np.array(y_test)"
   ]
  },
  {
   "cell_type": "markdown",
   "metadata": {
    "colab_type": "text",
    "id": "vKYVQH-l5NpE"
   },
   "source": [
    "## Predicting the Test set results"
   ]
  },
  {
   "cell_type": "code",
   "execution_count": 14,
   "metadata": {
    "colab": {
     "base_uri": "https://localhost:8080/",
     "height": 1000
    },
    "colab_type": "code",
    "executionInfo": {
     "elapsed": 2112,
     "status": "ok",
     "timestamp": 1588265315506,
     "user": {
      "displayName": "Hadelin de Ponteves",
      "photoUrl": "https://lh3.googleusercontent.com/a-/AOh14GhEuXdT7eQweUmRPW8_laJuPggSK6hfvpl5a6WBaA=s64",
      "userId": "15047218817161520419"
     },
     "user_tz": -240
    },
    "id": "p6VMTb2O4hwM",
    "outputId": "a4f03a97-2942-45cd-f735-f4063277a96c"
   },
   "outputs": [
    {
     "data": {
      "text/plain": [
       "array([0, 0, 0, 0, 0, 0, 0, 0, 0, 1, 0, 1, 0, 0, 0, 1, 0, 0, 1, 0, 0, 0,\n",
       "       0, 1, 0, 0, 0, 1, 0, 0, 0, 1, 1, 0, 0, 1, 0, 1, 0, 1, 1, 0, 0, 0,\n",
       "       0, 0, 1, 0, 0, 0, 0, 1, 1, 0, 1, 0, 1, 1, 0, 0, 0, 1, 0, 0, 0, 0,\n",
       "       1, 1, 0, 0, 1, 0, 0, 1, 0, 1, 1, 0, 0, 0, 0, 0, 0, 1, 0, 0, 0, 0,\n",
       "       0, 0, 0, 0, 0, 0, 0, 1, 0, 1, 0, 1, 0, 0, 0, 0, 1, 1, 1, 1, 0, 0,\n",
       "       1, 1, 0, 1, 1, 0, 0, 1, 0, 0], dtype=int64)"
      ]
     },
     "execution_count": 14,
     "metadata": {},
     "output_type": "execute_result"
    }
   ],
   "source": [
    "y_pred = classifier.predict(x_test)\n",
    "y_pred"
   ]
  },
  {
   "cell_type": "markdown",
   "metadata": {
    "colab_type": "text",
    "id": "h4Hwj34ziWQW"
   },
   "source": [
    "## Making the Confusion Matrix\n",
    "* **CONFUSION MATRIX :**A confusion matrix, also known as an error matrix, is a specific table layout that allows visualization of the performance of an algorithm, typically a supervised learning one."
   ]
  },
  {
   "cell_type": "code",
   "execution_count": 25,
   "metadata": {
    "colab": {
     "base_uri": "https://localhost:8080/",
     "height": 68
    },
    "colab_type": "code",
    "executionInfo": {
     "elapsed": 2107,
     "status": "ok",
     "timestamp": 1588265315506,
     "user": {
      "displayName": "Hadelin de Ponteves",
      "photoUrl": "https://lh3.googleusercontent.com/a-/AOh14GhEuXdT7eQweUmRPW8_laJuPggSK6hfvpl5a6WBaA=s64",
      "userId": "15047218817161520419"
     },
     "user_tz": -240
    },
    "id": "D6bpZwUiiXic",
    "outputId": "f202fcb3-5882-4d93-e5df-50791185067e"
   },
   "outputs": [
    {
     "name": "stdout",
     "output_type": "stream",
     "text": [
      "[[69  4]\n",
      " [13 34]]\n",
      "\n",
      " 0.8583333333333333\n",
      "\n",
      "               precision    recall  f1-score   support\n",
      "\n",
      "           0       0.84      0.95      0.89        73\n",
      "           1       0.89      0.72      0.80        47\n",
      "\n",
      "    accuracy                           0.86       120\n",
      "   macro avg       0.87      0.83      0.85       120\n",
      "weighted avg       0.86      0.86      0.85       120\n",
      "\n",
      "Precision: 0.8947368421052632\n",
      "Recall: 0.723404255319149\n",
      "f1-score: 0.8\n"
     ]
    }
   ],
   "source": [
    "from sklearn.metrics import confusion_matrix, accuracy_score, classification_report, precision_score, recall_score, f1_score\n",
    "cm = confusion_matrix(y_test, y_pred)\n",
    "print(cm)\n",
    "print(\"\\n\",accuracy_score(y_test, y_pred))\n",
    "print(\"\\n\",classification_report(y_test,y_pred))\n",
    "print(\"Precision:\",precision_score(y_test,y_pred))\n",
    "print(\"Recall:\",recall_score(y_test,y_pred))\n",
    "print(\"f1-score:\",f1_score(y_test,y_pred))\n"
   ]
  },
  {
   "cell_type": "code",
   "execution_count": 19,
   "metadata": {},
   "outputs": [
    {
     "name": "stdout",
     "output_type": "stream",
     "text": [
      "[[69  4]\n",
      " [13 34]]\n",
      "Test Data Accuracy logistic regression: 0.8583\n"
     ]
    },
    {
     "data": {
      "image/png": "[encoded data removed]",
      "text/plain": [
       "<Figure size 720x504 with 2 Axes>"
      ]
     },
     "metadata": {},
     "output_type": "display_data"
    }
   ],
   "source": [
    "cm = confusion_matrix(y_test, y_pred) # rows = truth, cols = prediction\n",
    "print(cm)\n",
    "df_cm = pd.DataFrame(cm, index = (0, 1), columns = (0, 1))\n",
    "plt.figure(figsize = (10,7))\n",
    "sns.set(font_scale=1.4)\n",
    "sns.heatmap(df_cm, annot=True, fmt='g')\n",
    "plt.ylabel('True class')\n",
    "plt.xlabel('Predicted class')\n",
    "plt.title('Logistic regression')\n",
    "print(\"Test Data Accuracy logistic regression: %0.4f\" % accuracy_score(y_test, y_pred))"
   ]
  },
  {
   "cell_type": "markdown",
   "metadata": {},
   "source": [
    "## EVALUATION OF THE MODEL METRICS\n",
    "\n",
    "* A confusion matrix is a table that is often used to describe the performance of a classification model (or “classifier”) on a set of test data for which the true values are known.\n",
    "### Observation of model metrics\n",
    "* **Precision:** 0.8947368421052632,\n",
    "  **Recall:** 0.723404255319149,\n",
    "  **f1-score:** 0.8\n",
    "  \n",
    "* **Precision**-It is the ‘Exactness’, ability of the model to return only relevant instances.\n",
    "* **Recall**-It is the ‘Completeness’, ability of the model to identify all relevant instances.\n",
    "* **F1 Measure**-Harmonic mean of Precision & Recall, used to indicate a balance between Precision & Recall providing each equal weightage, it ranges from 0 to 1.\n",
    "* A GOOD MODEL INDICATES A HIGH VALUES IN DIAGONAL ELEMENTS AND LESS VALUES ON OFF-DIAGONALS ELEMENTS.\n"
   ]
  },
  {
   "cell_type": "code",
   "execution_count": null,
   "metadata": {},
   "outputs": [],
   "source": []
  }
 ],
 "metadata": {
  "colab": {
   "authorship_tag": "ABX9TyOsvB/iqEjYj3VN6C/JbvkE",
   "collapsed_sections": [],
   "machine_shape": "hm",
   "name": "logistic_regression.ipynb",
   "provenance": [],
   "toc_visible": true
  },
  "kernelspec": {
   "display_name": "Python 3",
   "language": "python",
   "name": "python3"
  },
  "language_info": {
   "codemirror_mode": {
    "name": "ipython",
    "version": 3
   },
   "file_extension": ".py",
   "mimetype": "text/x-python",
   "name": "python",
   "nbconvert_exporter": "python",
   "pygments_lexer": "ipython3",
   "version": "3.8.8"
  }
 },
 "nbformat": 4,
 "nbformat_minor": 1
}
