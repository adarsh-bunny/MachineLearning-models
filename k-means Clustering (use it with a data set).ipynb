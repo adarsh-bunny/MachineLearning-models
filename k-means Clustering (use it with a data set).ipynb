{
 "cells": [
  {
   "cell_type": "markdown",
   "metadata": {
    "colab_type": "text",
    "id": "i_paGd_yLbgH"
   },
   "source": [
    "### Experiment -3\n",
    "\n",
    "# Aim -Using KMeans Clustering to analyse the Mall_Customers Data \n",
    "\n"
   ]
  },
  {
   "cell_type": "markdown",
   "metadata": {},
   "source": [
    "## Algorithm Used: K-Means Clustering Algorithm\n",
    "\n",
    "#### K-Means is a very simple clustering algorithm (clustering belongs to unsupervised learning). Given a fixed number of clusters and an input dataset the algorithm tries to partition the data into clusters such that the clusters have high intra-class similarity and low inter-class similarity."
   ]
  },
  {
   "cell_type": "markdown",
   "metadata": {},
   "source": [
    " ## PYTHON PROGRAM CODE"
   ]
  },
  {
   "cell_type": "markdown",
   "metadata": {
    "colab_type": "text",
    "id": "nAuqPwTnLipr"
   },
   "source": [
    "## Importing the libraries"
   ]
  },
  {
   "cell_type": "code",
   "execution_count": 1,
   "metadata": {
    "colab": {},
    "colab_type": "code",
    "id": "yUXGcC4KLmcL"
   },
   "outputs": [],
   "source": [
    "import numpy as np\n",
    "import matplotlib.pyplot as plt\n",
    "import pandas as pd"
   ]
  },
  {
   "cell_type": "markdown",
   "metadata": {
    "colab_type": "text",
    "id": "5LciKOr8Lo5O"
   },
   "source": [
    "## Importing the dataset"
   ]
  },
  {
   "cell_type": "code",
   "execution_count": 2,
   "metadata": {
    "colab": {},
    "colab_type": "code",
    "id": "9RlmPzZGLtGi"
   },
   "outputs": [],
   "source": [
    "dataset = pd.read_csv('datasets/Mall_Customers.csv')"
   ]
  },
  {
   "cell_type": "code",
   "execution_count": 3,
   "metadata": {},
   "outputs": [
    {
     "data": {
      "text/html": [
       "<div>\n",
       "<style scoped>\n",
       "    .dataframe tbody tr th:only-of-type {\n",
       "        vertical-align: middle;\n",
       "    }\n",
       "\n",
       "    .dataframe tbody tr th {\n",
       "        vertical-align: top;\n",
       "    }\n",
       "\n",
       "    .dataframe thead th {\n",
       "        text-align: right;\n",
       "    }\n",
       "</style>\n",
       "<table border=\"1\" class=\"dataframe\">\n",
       "  <thead>\n",
       "    <tr style=\"text-align: right;\">\n",
       "      <th></th>\n",
       "      <th>CustomerID</th>\n",
       "      <th>Genre</th>\n",
       "      <th>Age</th>\n",
       "      <th>Annual Income (k$)</th>\n",
       "      <th>Spending Score (1-100)</th>\n",
       "    </tr>\n",
       "  </thead>\n",
       "  <tbody>\n",
       "    <tr>\n",
       "      <th>0</th>\n",
       "      <td>1</td>\n",
       "      <td>Male</td>\n",
       "      <td>19</td>\n",
       "      <td>15</td>\n",
       "      <td>39</td>\n",
       "    </tr>\n",
       "    <tr>\n",
       "      <th>1</th>\n",
       "      <td>2</td>\n",
       "      <td>Male</td>\n",
       "      <td>21</td>\n",
       "      <td>15</td>\n",
       "      <td>81</td>\n",
       "    </tr>\n",
       "    <tr>\n",
       "      <th>2</th>\n",
       "      <td>3</td>\n",
       "      <td>Female</td>\n",
       "      <td>20</td>\n",
       "      <td>16</td>\n",
       "      <td>6</td>\n",
       "    </tr>\n",
       "    <tr>\n",
       "      <th>3</th>\n",
       "      <td>4</td>\n",
       "      <td>Female</td>\n",
       "      <td>23</td>\n",
       "      <td>16</td>\n",
       "      <td>77</td>\n",
       "    </tr>\n",
       "    <tr>\n",
       "      <th>4</th>\n",
       "      <td>5</td>\n",
       "      <td>Female</td>\n",
       "      <td>31</td>\n",
       "      <td>17</td>\n",
       "      <td>40</td>\n",
       "    </tr>\n",
       "  </tbody>\n",
       "</table>\n",
       "</div>"
      ],
      "text/plain": [
       "   CustomerID   Genre  Age  Annual Income (k$)  Spending Score (1-100)\n",
       "0           1    Male   19                  15                      39\n",
       "1           2    Male   21                  15                      81\n",
       "2           3  Female   20                  16                       6\n",
       "3           4  Female   23                  16                      77\n",
       "4           5  Female   31                  17                      40"
      ]
     },
     "execution_count": 3,
     "metadata": {},
     "output_type": "execute_result"
    }
   ],
   "source": [
    "dataset.head()"
   ]
  },
  {
   "cell_type": "code",
   "execution_count": 4,
   "metadata": {},
   "outputs": [
    {
     "data": {
      "text/plain": [
       "array([[ 15,  39],\n",
       "       [ 15,  81],\n",
       "       [ 16,   6],\n",
       "       [ 16,  77],\n",
       "       [ 17,  40],\n",
       "       [ 17,  76],\n",
       "       [ 18,   6],\n",
       "       [ 18,  94],\n",
       "       [ 19,   3],\n",
       "       [ 19,  72],\n",
       "       [ 19,  14],\n",
       "       [ 19,  99],\n",
       "       [ 20,  15],\n",
       "       [ 20,  77],\n",
       "       [ 20,  13],\n",
       "       [ 20,  79],\n",
       "       [ 21,  35],\n",
       "       [ 21,  66],\n",
       "       [ 23,  29],\n",
       "       [ 23,  98],\n",
       "       [ 24,  35],\n",
       "       [ 24,  73],\n",
       "       [ 25,   5],\n",
       "       [ 25,  73],\n",
       "       [ 28,  14],\n",
       "       [ 28,  82],\n",
       "       [ 28,  32],\n",
       "       [ 28,  61],\n",
       "       [ 29,  31],\n",
       "       [ 29,  87],\n",
       "       [ 30,   4],\n",
       "       [ 30,  73],\n",
       "       [ 33,   4],\n",
       "       [ 33,  92],\n",
       "       [ 33,  14],\n",
       "       [ 33,  81],\n",
       "       [ 34,  17],\n",
       "       [ 34,  73],\n",
       "       [ 37,  26],\n",
       "       [ 37,  75],\n",
       "       [ 38,  35],\n",
       "       [ 38,  92],\n",
       "       [ 39,  36],\n",
       "       [ 39,  61],\n",
       "       [ 39,  28],\n",
       "       [ 39,  65],\n",
       "       [ 40,  55],\n",
       "       [ 40,  47],\n",
       "       [ 40,  42],\n",
       "       [ 40,  42],\n",
       "       [ 42,  52],\n",
       "       [ 42,  60],\n",
       "       [ 43,  54],\n",
       "       [ 43,  60],\n",
       "       [ 43,  45],\n",
       "       [ 43,  41],\n",
       "       [ 44,  50],\n",
       "       [ 44,  46],\n",
       "       [ 46,  51],\n",
       "       [ 46,  46],\n",
       "       [ 46,  56],\n",
       "       [ 46,  55],\n",
       "       [ 47,  52],\n",
       "       [ 47,  59],\n",
       "       [ 48,  51],\n",
       "       [ 48,  59],\n",
       "       [ 48,  50],\n",
       "       [ 48,  48],\n",
       "       [ 48,  59],\n",
       "       [ 48,  47],\n",
       "       [ 49,  55],\n",
       "       [ 49,  42],\n",
       "       [ 50,  49],\n",
       "       [ 50,  56],\n",
       "       [ 54,  47],\n",
       "       [ 54,  54],\n",
       "       [ 54,  53],\n",
       "       [ 54,  48],\n",
       "       [ 54,  52],\n",
       "       [ 54,  42],\n",
       "       [ 54,  51],\n",
       "       [ 54,  55],\n",
       "       [ 54,  41],\n",
       "       [ 54,  44],\n",
       "       [ 54,  57],\n",
       "       [ 54,  46],\n",
       "       [ 57,  58],\n",
       "       [ 57,  55],\n",
       "       [ 58,  60],\n",
       "       [ 58,  46],\n",
       "       [ 59,  55],\n",
       "       [ 59,  41],\n",
       "       [ 60,  49],\n",
       "       [ 60,  40],\n",
       "       [ 60,  42],\n",
       "       [ 60,  52],\n",
       "       [ 60,  47],\n",
       "       [ 60,  50],\n",
       "       [ 61,  42],\n",
       "       [ 61,  49],\n",
       "       [ 62,  41],\n",
       "       [ 62,  48],\n",
       "       [ 62,  59],\n",
       "       [ 62,  55],\n",
       "       [ 62,  56],\n",
       "       [ 62,  42],\n",
       "       [ 63,  50],\n",
       "       [ 63,  46],\n",
       "       [ 63,  43],\n",
       "       [ 63,  48],\n",
       "       [ 63,  52],\n",
       "       [ 63,  54],\n",
       "       [ 64,  42],\n",
       "       [ 64,  46],\n",
       "       [ 65,  48],\n",
       "       [ 65,  50],\n",
       "       [ 65,  43],\n",
       "       [ 65,  59],\n",
       "       [ 67,  43],\n",
       "       [ 67,  57],\n",
       "       [ 67,  56],\n",
       "       [ 67,  40],\n",
       "       [ 69,  58],\n",
       "       [ 69,  91],\n",
       "       [ 70,  29],\n",
       "       [ 70,  77],\n",
       "       [ 71,  35],\n",
       "       [ 71,  95],\n",
       "       [ 71,  11],\n",
       "       [ 71,  75],\n",
       "       [ 71,   9],\n",
       "       [ 71,  75],\n",
       "       [ 72,  34],\n",
       "       [ 72,  71],\n",
       "       [ 73,   5],\n",
       "       [ 73,  88],\n",
       "       [ 73,   7],\n",
       "       [ 73,  73],\n",
       "       [ 74,  10],\n",
       "       [ 74,  72],\n",
       "       [ 75,   5],\n",
       "       [ 75,  93],\n",
       "       [ 76,  40],\n",
       "       [ 76,  87],\n",
       "       [ 77,  12],\n",
       "       [ 77,  97],\n",
       "       [ 77,  36],\n",
       "       [ 77,  74],\n",
       "       [ 78,  22],\n",
       "       [ 78,  90],\n",
       "       [ 78,  17],\n",
       "       [ 78,  88],\n",
       "       [ 78,  20],\n",
       "       [ 78,  76],\n",
       "       [ 78,  16],\n",
       "       [ 78,  89],\n",
       "       [ 78,   1],\n",
       "       [ 78,  78],\n",
       "       [ 78,   1],\n",
       "       [ 78,  73],\n",
       "       [ 79,  35],\n",
       "       [ 79,  83],\n",
       "       [ 81,   5],\n",
       "       [ 81,  93],\n",
       "       [ 85,  26],\n",
       "       [ 85,  75],\n",
       "       [ 86,  20],\n",
       "       [ 86,  95],\n",
       "       [ 87,  27],\n",
       "       [ 87,  63],\n",
       "       [ 87,  13],\n",
       "       [ 87,  75],\n",
       "       [ 87,  10],\n",
       "       [ 87,  92],\n",
       "       [ 88,  13],\n",
       "       [ 88,  86],\n",
       "       [ 88,  15],\n",
       "       [ 88,  69],\n",
       "       [ 93,  14],\n",
       "       [ 93,  90],\n",
       "       [ 97,  32],\n",
       "       [ 97,  86],\n",
       "       [ 98,  15],\n",
       "       [ 98,  88],\n",
       "       [ 99,  39],\n",
       "       [ 99,  97],\n",
       "       [101,  24],\n",
       "       [101,  68],\n",
       "       [103,  17],\n",
       "       [103,  85],\n",
       "       [103,  23],\n",
       "       [103,  69],\n",
       "       [113,   8],\n",
       "       [113,  91],\n",
       "       [120,  16],\n",
       "       [120,  79],\n",
       "       [126,  28],\n",
       "       [126,  74],\n",
       "       [137,  18],\n",
       "       [137,  83]], dtype=int64)"
      ]
     },
     "execution_count": 4,
     "metadata": {},
     "output_type": "execute_result"
    }
   ],
   "source": [
    "X = dataset.iloc[:, [3, 4]].values\n",
    "X"
   ]
  },
  {
   "cell_type": "code",
   "execution_count": 5,
   "metadata": {},
   "outputs": [],
   "source": [
    "from sklearn.cluster import KMeans\n",
    "kmeans = KMeans(n_clusters=4,random_state = 42,init=\"kmeans++\")"
   ]
  },
  {
   "cell_type": "markdown",
   "metadata": {},
   "source": [
    "# Standardize the Columns"
   ]
  },
  {
   "cell_type": "code",
   "execution_count": 6,
   "metadata": {},
   "outputs": [],
   "source": [
    "from sklearn.preprocessing import StandardScaler\n",
    "from sklearn.preprocessing import MinMaxScaler"
   ]
  },
  {
   "cell_type": "code",
   "execution_count": 7,
   "metadata": {},
   "outputs": [],
   "source": [
    "scaler=StandardScaler()\n",
    "norm=MinMaxScaler()"
   ]
  },
  {
   "cell_type": "code",
   "execution_count": 8,
   "metadata": {},
   "outputs": [],
   "source": [
    "#X=scaler.fit_transform(X)\n",
    "X=norm.fit_transform(X)"
   ]
  },
  {
   "cell_type": "code",
   "execution_count": 9,
   "metadata": {},
   "outputs": [
    {
     "data": {
      "text/plain": [
       "array([[0.        , 0.3877551 ],\n",
       "       [0.        , 0.81632653],\n",
       "       [0.00819672, 0.05102041],\n",
       "       [0.00819672, 0.7755102 ],\n",
       "       [0.01639344, 0.39795918],\n",
       "       [0.01639344, 0.76530612],\n",
       "       [0.02459016, 0.05102041],\n",
       "       [0.02459016, 0.94897959],\n",
       "       [0.03278689, 0.02040816],\n",
       "       [0.03278689, 0.7244898 ],\n",
       "       [0.03278689, 0.13265306],\n",
       "       [0.03278689, 1.        ],\n",
       "       [0.04098361, 0.14285714],\n",
       "       [0.04098361, 0.7755102 ],\n",
       "       [0.04098361, 0.12244898],\n",
       "       [0.04098361, 0.79591837],\n",
       "       [0.04918033, 0.34693878],\n",
       "       [0.04918033, 0.66326531],\n",
       "       [0.06557377, 0.28571429],\n",
       "       [0.06557377, 0.98979592],\n",
       "       [0.07377049, 0.34693878],\n",
       "       [0.07377049, 0.73469388],\n",
       "       [0.08196721, 0.04081633],\n",
       "       [0.08196721, 0.73469388],\n",
       "       [0.10655738, 0.13265306],\n",
       "       [0.10655738, 0.82653061],\n",
       "       [0.10655738, 0.31632653],\n",
       "       [0.10655738, 0.6122449 ],\n",
       "       [0.1147541 , 0.30612245],\n",
       "       [0.1147541 , 0.87755102],\n",
       "       [0.12295082, 0.03061224],\n",
       "       [0.12295082, 0.73469388],\n",
       "       [0.14754098, 0.03061224],\n",
       "       [0.14754098, 0.92857143],\n",
       "       [0.14754098, 0.13265306],\n",
       "       [0.14754098, 0.81632653],\n",
       "       [0.1557377 , 0.16326531],\n",
       "       [0.1557377 , 0.73469388],\n",
       "       [0.18032787, 0.25510204],\n",
       "       [0.18032787, 0.75510204],\n",
       "       [0.18852459, 0.34693878],\n",
       "       [0.18852459, 0.92857143],\n",
       "       [0.19672131, 0.35714286],\n",
       "       [0.19672131, 0.6122449 ],\n",
       "       [0.19672131, 0.2755102 ],\n",
       "       [0.19672131, 0.65306122],\n",
       "       [0.20491803, 0.55102041],\n",
       "       [0.20491803, 0.46938776],\n",
       "       [0.20491803, 0.41836735],\n",
       "       [0.20491803, 0.41836735],\n",
       "       [0.22131148, 0.52040816],\n",
       "       [0.22131148, 0.60204082],\n",
       "       [0.2295082 , 0.54081633],\n",
       "       [0.2295082 , 0.60204082],\n",
       "       [0.2295082 , 0.44897959],\n",
       "       [0.2295082 , 0.40816327],\n",
       "       [0.23770492, 0.5       ],\n",
       "       [0.23770492, 0.45918367],\n",
       "       [0.25409836, 0.51020408],\n",
       "       [0.25409836, 0.45918367],\n",
       "       [0.25409836, 0.56122449],\n",
       "       [0.25409836, 0.55102041],\n",
       "       [0.26229508, 0.52040816],\n",
       "       [0.26229508, 0.59183673],\n",
       "       [0.2704918 , 0.51020408],\n",
       "       [0.2704918 , 0.59183673],\n",
       "       [0.2704918 , 0.5       ],\n",
       "       [0.2704918 , 0.47959184],\n",
       "       [0.2704918 , 0.59183673],\n",
       "       [0.2704918 , 0.46938776],\n",
       "       [0.27868852, 0.55102041],\n",
       "       [0.27868852, 0.41836735],\n",
       "       [0.28688525, 0.48979592],\n",
       "       [0.28688525, 0.56122449],\n",
       "       [0.31967213, 0.46938776],\n",
       "       [0.31967213, 0.54081633],\n",
       "       [0.31967213, 0.53061224],\n",
       "       [0.31967213, 0.47959184],\n",
       "       [0.31967213, 0.52040816],\n",
       "       [0.31967213, 0.41836735],\n",
       "       [0.31967213, 0.51020408],\n",
       "       [0.31967213, 0.55102041],\n",
       "       [0.31967213, 0.40816327],\n",
       "       [0.31967213, 0.43877551],\n",
       "       [0.31967213, 0.57142857],\n",
       "       [0.31967213, 0.45918367],\n",
       "       [0.3442623 , 0.58163265],\n",
       "       [0.3442623 , 0.55102041],\n",
       "       [0.35245902, 0.60204082],\n",
       "       [0.35245902, 0.45918367],\n",
       "       [0.36065574, 0.55102041],\n",
       "       [0.36065574, 0.40816327],\n",
       "       [0.36885246, 0.48979592],\n",
       "       [0.36885246, 0.39795918],\n",
       "       [0.36885246, 0.41836735],\n",
       "       [0.36885246, 0.52040816],\n",
       "       [0.36885246, 0.46938776],\n",
       "       [0.36885246, 0.5       ],\n",
       "       [0.37704918, 0.41836735],\n",
       "       [0.37704918, 0.48979592],\n",
       "       [0.3852459 , 0.40816327],\n",
       "       [0.3852459 , 0.47959184],\n",
       "       [0.3852459 , 0.59183673],\n",
       "       [0.3852459 , 0.55102041],\n",
       "       [0.3852459 , 0.56122449],\n",
       "       [0.3852459 , 0.41836735],\n",
       "       [0.39344262, 0.5       ],\n",
       "       [0.39344262, 0.45918367],\n",
       "       [0.39344262, 0.42857143],\n",
       "       [0.39344262, 0.47959184],\n",
       "       [0.39344262, 0.52040816],\n",
       "       [0.39344262, 0.54081633],\n",
       "       [0.40163934, 0.41836735],\n",
       "       [0.40163934, 0.45918367],\n",
       "       [0.40983607, 0.47959184],\n",
       "       [0.40983607, 0.5       ],\n",
       "       [0.40983607, 0.42857143],\n",
       "       [0.40983607, 0.59183673],\n",
       "       [0.42622951, 0.42857143],\n",
       "       [0.42622951, 0.57142857],\n",
       "       [0.42622951, 0.56122449],\n",
       "       [0.42622951, 0.39795918],\n",
       "       [0.44262295, 0.58163265],\n",
       "       [0.44262295, 0.91836735],\n",
       "       [0.45081967, 0.28571429],\n",
       "       [0.45081967, 0.7755102 ],\n",
       "       [0.45901639, 0.34693878],\n",
       "       [0.45901639, 0.95918367],\n",
       "       [0.45901639, 0.10204082],\n",
       "       [0.45901639, 0.75510204],\n",
       "       [0.45901639, 0.08163265],\n",
       "       [0.45901639, 0.75510204],\n",
       "       [0.46721311, 0.33673469],\n",
       "       [0.46721311, 0.71428571],\n",
       "       [0.47540984, 0.04081633],\n",
       "       [0.47540984, 0.8877551 ],\n",
       "       [0.47540984, 0.06122449],\n",
       "       [0.47540984, 0.73469388],\n",
       "       [0.48360656, 0.09183673],\n",
       "       [0.48360656, 0.7244898 ],\n",
       "       [0.49180328, 0.04081633],\n",
       "       [0.49180328, 0.93877551],\n",
       "       [0.5       , 0.39795918],\n",
       "       [0.5       , 0.87755102],\n",
       "       [0.50819672, 0.1122449 ],\n",
       "       [0.50819672, 0.97959184],\n",
       "       [0.50819672, 0.35714286],\n",
       "       [0.50819672, 0.74489796],\n",
       "       [0.51639344, 0.21428571],\n",
       "       [0.51639344, 0.90816327],\n",
       "       [0.51639344, 0.16326531],\n",
       "       [0.51639344, 0.8877551 ],\n",
       "       [0.51639344, 0.19387755],\n",
       "       [0.51639344, 0.76530612],\n",
       "       [0.51639344, 0.15306122],\n",
       "       [0.51639344, 0.89795918],\n",
       "       [0.51639344, 0.        ],\n",
       "       [0.51639344, 0.78571429],\n",
       "       [0.51639344, 0.        ],\n",
       "       [0.51639344, 0.73469388],\n",
       "       [0.52459016, 0.34693878],\n",
       "       [0.52459016, 0.83673469],\n",
       "       [0.54098361, 0.04081633],\n",
       "       [0.54098361, 0.93877551],\n",
       "       [0.57377049, 0.25510204],\n",
       "       [0.57377049, 0.75510204],\n",
       "       [0.58196721, 0.19387755],\n",
       "       [0.58196721, 0.95918367],\n",
       "       [0.59016393, 0.26530612],\n",
       "       [0.59016393, 0.63265306],\n",
       "       [0.59016393, 0.12244898],\n",
       "       [0.59016393, 0.75510204],\n",
       "       [0.59016393, 0.09183673],\n",
       "       [0.59016393, 0.92857143],\n",
       "       [0.59836066, 0.12244898],\n",
       "       [0.59836066, 0.86734694],\n",
       "       [0.59836066, 0.14285714],\n",
       "       [0.59836066, 0.69387755],\n",
       "       [0.63934426, 0.13265306],\n",
       "       [0.63934426, 0.90816327],\n",
       "       [0.67213115, 0.31632653],\n",
       "       [0.67213115, 0.86734694],\n",
       "       [0.68032787, 0.14285714],\n",
       "       [0.68032787, 0.8877551 ],\n",
       "       [0.68852459, 0.3877551 ],\n",
       "       [0.68852459, 0.97959184],\n",
       "       [0.70491803, 0.23469388],\n",
       "       [0.70491803, 0.68367347],\n",
       "       [0.72131148, 0.16326531],\n",
       "       [0.72131148, 0.85714286],\n",
       "       [0.72131148, 0.2244898 ],\n",
       "       [0.72131148, 0.69387755],\n",
       "       [0.80327869, 0.07142857],\n",
       "       [0.80327869, 0.91836735],\n",
       "       [0.86065574, 0.15306122],\n",
       "       [0.86065574, 0.79591837],\n",
       "       [0.90983607, 0.2755102 ],\n",
       "       [0.90983607, 0.74489796],\n",
       "       [1.        , 0.17346939],\n",
       "       [1.        , 0.83673469]])"
      ]
     },
     "execution_count": 9,
     "metadata": {},
     "output_type": "execute_result"
    }
   ],
   "source": [
    "X"
   ]
  },
  {
   "cell_type": "markdown",
   "metadata": {},
   "source": [
    "# Inertia\n",
    "\n",
    "Intuitively, inertia tells how far away the points within a cluster are. Therefore, a small of inertia is aimed for. The range of inertia’s value starts from zero and goes up.\n",
    "\n",
    "Inertia is the sum of squared error for each cluster. c\n",
    "\n",
    "From the below plot, we can assure that the cluster number 5 is optimum as it the smaller the inertia the denser the cluster the better it is."
   ]
  },
  {
   "cell_type": "markdown",
   "metadata": {
    "colab_type": "text",
    "id": "nWC2EWp2Lx5G"
   },
   "source": [
    "## Using the elbow method to find the optimal number of clusters"
   ]
  },
  {
   "cell_type": "code",
   "execution_count": 10,
   "metadata": {
    "colab": {
     "base_uri": "https://localhost:8080/",
     "height": 295
    },
    "colab_type": "code",
    "executionInfo": {
     "elapsed": 2064,
     "status": "ok",
     "timestamp": 1586372911621,
     "user": {
      "displayName": "Hadelin de Ponteves",
      "photoUrl": "https://lh3.googleusercontent.com/a-/AOh14GhEuXdT7eQweUmRPW8_laJuPggSK6hfvpl5a6WBaA=s64",
      "userId": "15047218817161520419"
     },
     "user_tz": -240
    },
    "id": "zWs6ciOoL1b3",
    "outputId": "893027bb-ecf9-45a4-f229-f54cebdccee2"
   },
   "outputs": [
    {
     "name": "stderr",
     "output_type": "stream",
     "text": [
      "C:\\Users\\HP\\anaconda3\\lib\\site-packages\\sklearn\\cluster\\_kmeans.py:881: UserWarning: KMeans is known to have a memory leak on Windows with MKL, when there are less chunks than available threads. You can avoid it by setting the environment variable OMP_NUM_THREADS=1.\n",
      "  warnings.warn(\n"
     ]
    },
    {
     "data": {
      "image/png": "[encoded data removed]",
      "text/plain": [
       "<Figure size 936x792 with 1 Axes>"
      ]
     },
     "metadata": {
      "needs_background": "light"
     },
     "output_type": "display_data"
    }
   ],
   "source": [
    "from sklearn.cluster import KMeans\n",
    "wcss = []\n",
    "for i in range(1, 11):\n",
    "    kmeans = KMeans(n_clusters = i,random_state = 42)\n",
    "    kmeans.fit(X)\n",
    "    wcss.append(kmeans.inertia_)\n",
    "plt.figure(figsize=(13,11))\n",
    "plt.plot(range(1, 11), wcss,marker=\"o\")\n",
    "plt.title('The Elbow Method')\n",
    "plt.xlabel('Number of clusters')\n",
    "plt.ylabel('WCSS')\n",
    "plt.show()"
   ]
  },
  {
   "cell_type": "markdown",
   "metadata": {
    "colab_type": "text",
    "id": "VgT0mANLL4Nz"
   },
   "source": [
    "## Training the K-Means model on the dataset"
   ]
  },
  {
   "cell_type": "code",
   "execution_count": 11,
   "metadata": {
    "colab": {},
    "colab_type": "code",
    "id": "cjEfU6ZSMAPl"
   },
   "outputs": [],
   "source": [
    "kmeans = KMeans(n_clusters = 5, random_state = 42)\n",
    "y_kmeans = kmeans.fit_predict(X)"
   ]
  },
  {
   "cell_type": "code",
   "execution_count": 12,
   "metadata": {},
   "outputs": [
    {
     "data": {
      "text/plain": [
       "array([2, 3, 2, 3, 2, 3, 2, 3, 2, 3, 2, 3, 2, 3, 2, 3, 2, 3, 2, 3, 2, 3,\n",
       "       2, 3, 2, 3, 2, 3, 2, 3, 2, 3, 2, 3, 2, 3, 2, 3, 2, 3, 2, 3, 2, 0,\n",
       "       2, 3, 0, 0, 0, 0, 0, 0, 0, 0, 0, 0, 0, 0, 0, 0, 0, 0, 0, 0, 0, 0,\n",
       "       0, 0, 0, 0, 0, 0, 0, 0, 0, 0, 0, 0, 0, 0, 0, 0, 0, 0, 0, 0, 0, 0,\n",
       "       0, 0, 0, 0, 0, 0, 0, 0, 0, 0, 0, 0, 0, 0, 0, 0, 0, 0, 0, 0, 0, 0,\n",
       "       0, 0, 0, 0, 0, 0, 0, 0, 0, 0, 0, 0, 0, 4, 1, 4, 0, 4, 1, 4, 1, 4,\n",
       "       0, 4, 1, 4, 1, 4, 1, 4, 1, 4, 0, 4, 1, 4, 1, 4, 1, 4, 1, 4, 1, 4,\n",
       "       1, 4, 1, 4, 1, 4, 1, 4, 1, 4, 1, 4, 1, 4, 1, 4, 1, 4, 1, 4, 1, 4,\n",
       "       1, 4, 1, 4, 1, 4, 1, 4, 1, 4, 1, 4, 1, 4, 1, 4, 1, 4, 1, 4, 1, 4,\n",
       "       1, 4])"
      ]
     },
     "execution_count": 12,
     "metadata": {},
     "output_type": "execute_result"
    }
   ],
   "source": [
    "y_kmeans"
   ]
  },
  {
   "cell_type": "code",
   "execution_count": 13,
   "metadata": {},
   "outputs": [
    {
     "data": {
      "text/plain": [
       "array([[0.33029751, 0.49508692],\n",
       "       [0.6       , 0.16443149],\n",
       "       [0.09265859, 0.20319432],\n",
       "       [0.08792846, 0.79962894],\n",
       "       [0.58638083, 0.82783883]])"
      ]
     },
     "execution_count": 13,
     "metadata": {},
     "output_type": "execute_result"
    }
   ],
   "source": [
    "#For Centroi Values\n",
    "kmeans.cluster_centers_"
   ]
  },
  {
   "cell_type": "code",
   "execution_count": 14,
   "metadata": {},
   "outputs": [
    {
     "data": {
      "text/plain": [
       "array([[0.        , 0.3877551 ],\n",
       "       [0.        , 0.81632653],\n",
       "       [0.00819672, 0.05102041],\n",
       "       [0.00819672, 0.7755102 ],\n",
       "       [0.01639344, 0.39795918],\n",
       "       [0.01639344, 0.76530612],\n",
       "       [0.02459016, 0.05102041],\n",
       "       [0.02459016, 0.94897959],\n",
       "       [0.03278689, 0.02040816],\n",
       "       [0.03278689, 0.7244898 ],\n",
       "       [0.03278689, 0.13265306],\n",
       "       [0.03278689, 1.        ],\n",
       "       [0.04098361, 0.14285714],\n",
       "       [0.04098361, 0.7755102 ],\n",
       "       [0.04098361, 0.12244898],\n",
       "       [0.04098361, 0.79591837],\n",
       "       [0.04918033, 0.34693878],\n",
       "       [0.04918033, 0.66326531],\n",
       "       [0.06557377, 0.28571429],\n",
       "       [0.06557377, 0.98979592],\n",
       "       [0.07377049, 0.34693878],\n",
       "       [0.07377049, 0.73469388],\n",
       "       [0.08196721, 0.04081633],\n",
       "       [0.08196721, 0.73469388],\n",
       "       [0.10655738, 0.13265306],\n",
       "       [0.10655738, 0.82653061],\n",
       "       [0.10655738, 0.31632653],\n",
       "       [0.10655738, 0.6122449 ],\n",
       "       [0.1147541 , 0.30612245],\n",
       "       [0.1147541 , 0.87755102],\n",
       "       [0.12295082, 0.03061224],\n",
       "       [0.12295082, 0.73469388],\n",
       "       [0.14754098, 0.03061224],\n",
       "       [0.14754098, 0.92857143],\n",
       "       [0.14754098, 0.13265306],\n",
       "       [0.14754098, 0.81632653],\n",
       "       [0.1557377 , 0.16326531],\n",
       "       [0.1557377 , 0.73469388],\n",
       "       [0.18032787, 0.25510204],\n",
       "       [0.18032787, 0.75510204],\n",
       "       [0.18852459, 0.34693878],\n",
       "       [0.18852459, 0.92857143],\n",
       "       [0.19672131, 0.35714286],\n",
       "       [0.19672131, 0.6122449 ],\n",
       "       [0.19672131, 0.2755102 ],\n",
       "       [0.19672131, 0.65306122],\n",
       "       [0.20491803, 0.55102041],\n",
       "       [0.20491803, 0.46938776],\n",
       "       [0.20491803, 0.41836735],\n",
       "       [0.20491803, 0.41836735],\n",
       "       [0.22131148, 0.52040816],\n",
       "       [0.22131148, 0.60204082],\n",
       "       [0.2295082 , 0.54081633],\n",
       "       [0.2295082 , 0.60204082],\n",
       "       [0.2295082 , 0.44897959],\n",
       "       [0.2295082 , 0.40816327],\n",
       "       [0.23770492, 0.5       ],\n",
       "       [0.23770492, 0.45918367],\n",
       "       [0.25409836, 0.51020408],\n",
       "       [0.25409836, 0.45918367],\n",
       "       [0.25409836, 0.56122449],\n",
       "       [0.25409836, 0.55102041],\n",
       "       [0.26229508, 0.52040816],\n",
       "       [0.26229508, 0.59183673],\n",
       "       [0.2704918 , 0.51020408],\n",
       "       [0.2704918 , 0.59183673],\n",
       "       [0.2704918 , 0.5       ],\n",
       "       [0.2704918 , 0.47959184],\n",
       "       [0.2704918 , 0.59183673],\n",
       "       [0.2704918 , 0.46938776],\n",
       "       [0.27868852, 0.55102041],\n",
       "       [0.27868852, 0.41836735],\n",
       "       [0.28688525, 0.48979592],\n",
       "       [0.28688525, 0.56122449],\n",
       "       [0.31967213, 0.46938776],\n",
       "       [0.31967213, 0.54081633],\n",
       "       [0.31967213, 0.53061224],\n",
       "       [0.31967213, 0.47959184],\n",
       "       [0.31967213, 0.52040816],\n",
       "       [0.31967213, 0.41836735],\n",
       "       [0.31967213, 0.51020408],\n",
       "       [0.31967213, 0.55102041],\n",
       "       [0.31967213, 0.40816327],\n",
       "       [0.31967213, 0.43877551],\n",
       "       [0.31967213, 0.57142857],\n",
       "       [0.31967213, 0.45918367],\n",
       "       [0.3442623 , 0.58163265],\n",
       "       [0.3442623 , 0.55102041],\n",
       "       [0.35245902, 0.60204082],\n",
       "       [0.35245902, 0.45918367],\n",
       "       [0.36065574, 0.55102041],\n",
       "       [0.36065574, 0.40816327],\n",
       "       [0.36885246, 0.48979592],\n",
       "       [0.36885246, 0.39795918],\n",
       "       [0.36885246, 0.41836735],\n",
       "       [0.36885246, 0.52040816],\n",
       "       [0.36885246, 0.46938776],\n",
       "       [0.36885246, 0.5       ],\n",
       "       [0.37704918, 0.41836735],\n",
       "       [0.37704918, 0.48979592],\n",
       "       [0.3852459 , 0.40816327],\n",
       "       [0.3852459 , 0.47959184],\n",
       "       [0.3852459 , 0.59183673],\n",
       "       [0.3852459 , 0.55102041],\n",
       "       [0.3852459 , 0.56122449],\n",
       "       [0.3852459 , 0.41836735],\n",
       "       [0.39344262, 0.5       ],\n",
       "       [0.39344262, 0.45918367],\n",
       "       [0.39344262, 0.42857143],\n",
       "       [0.39344262, 0.47959184],\n",
       "       [0.39344262, 0.52040816],\n",
       "       [0.39344262, 0.54081633],\n",
       "       [0.40163934, 0.41836735],\n",
       "       [0.40163934, 0.45918367],\n",
       "       [0.40983607, 0.47959184],\n",
       "       [0.40983607, 0.5       ],\n",
       "       [0.40983607, 0.42857143],\n",
       "       [0.40983607, 0.59183673],\n",
       "       [0.42622951, 0.42857143],\n",
       "       [0.42622951, 0.57142857],\n",
       "       [0.42622951, 0.56122449],\n",
       "       [0.42622951, 0.39795918],\n",
       "       [0.44262295, 0.58163265],\n",
       "       [0.44262295, 0.91836735],\n",
       "       [0.45081967, 0.28571429],\n",
       "       [0.45081967, 0.7755102 ],\n",
       "       [0.45901639, 0.34693878],\n",
       "       [0.45901639, 0.95918367],\n",
       "       [0.45901639, 0.10204082],\n",
       "       [0.45901639, 0.75510204],\n",
       "       [0.45901639, 0.08163265],\n",
       "       [0.45901639, 0.75510204],\n",
       "       [0.46721311, 0.33673469],\n",
       "       [0.46721311, 0.71428571],\n",
       "       [0.47540984, 0.04081633],\n",
       "       [0.47540984, 0.8877551 ],\n",
       "       [0.47540984, 0.06122449],\n",
       "       [0.47540984, 0.73469388],\n",
       "       [0.48360656, 0.09183673],\n",
       "       [0.48360656, 0.7244898 ],\n",
       "       [0.49180328, 0.04081633],\n",
       "       [0.49180328, 0.93877551],\n",
       "       [0.5       , 0.39795918],\n",
       "       [0.5       , 0.87755102],\n",
       "       [0.50819672, 0.1122449 ],\n",
       "       [0.50819672, 0.97959184],\n",
       "       [0.50819672, 0.35714286],\n",
       "       [0.50819672, 0.74489796],\n",
       "       [0.51639344, 0.21428571],\n",
       "       [0.51639344, 0.90816327],\n",
       "       [0.51639344, 0.16326531],\n",
       "       [0.51639344, 0.8877551 ],\n",
       "       [0.51639344, 0.19387755],\n",
       "       [0.51639344, 0.76530612],\n",
       "       [0.51639344, 0.15306122],\n",
       "       [0.51639344, 0.89795918],\n",
       "       [0.51639344, 0.        ],\n",
       "       [0.51639344, 0.78571429],\n",
       "       [0.51639344, 0.        ],\n",
       "       [0.51639344, 0.73469388],\n",
       "       [0.52459016, 0.34693878],\n",
       "       [0.52459016, 0.83673469],\n",
       "       [0.54098361, 0.04081633],\n",
       "       [0.54098361, 0.93877551],\n",
       "       [0.57377049, 0.25510204],\n",
       "       [0.57377049, 0.75510204],\n",
       "       [0.58196721, 0.19387755],\n",
       "       [0.58196721, 0.95918367],\n",
       "       [0.59016393, 0.26530612],\n",
       "       [0.59016393, 0.63265306],\n",
       "       [0.59016393, 0.12244898],\n",
       "       [0.59016393, 0.75510204],\n",
       "       [0.59016393, 0.09183673],\n",
       "       [0.59016393, 0.92857143],\n",
       "       [0.59836066, 0.12244898],\n",
       "       [0.59836066, 0.86734694],\n",
       "       [0.59836066, 0.14285714],\n",
       "       [0.59836066, 0.69387755],\n",
       "       [0.63934426, 0.13265306],\n",
       "       [0.63934426, 0.90816327],\n",
       "       [0.67213115, 0.31632653],\n",
       "       [0.67213115, 0.86734694],\n",
       "       [0.68032787, 0.14285714],\n",
       "       [0.68032787, 0.8877551 ],\n",
       "       [0.68852459, 0.3877551 ],\n",
       "       [0.68852459, 0.97959184],\n",
       "       [0.70491803, 0.23469388],\n",
       "       [0.70491803, 0.68367347],\n",
       "       [0.72131148, 0.16326531],\n",
       "       [0.72131148, 0.85714286],\n",
       "       [0.72131148, 0.2244898 ],\n",
       "       [0.72131148, 0.69387755],\n",
       "       [0.80327869, 0.07142857],\n",
       "       [0.80327869, 0.91836735],\n",
       "       [0.86065574, 0.15306122],\n",
       "       [0.86065574, 0.79591837],\n",
       "       [0.90983607, 0.2755102 ],\n",
       "       [0.90983607, 0.74489796],\n",
       "       [1.        , 0.17346939],\n",
       "       [1.        , 0.83673469]])"
      ]
     },
     "execution_count": 14,
     "metadata": {},
     "output_type": "execute_result"
    }
   ],
   "source": [
    "X"
   ]
  },
  {
   "cell_type": "code",
   "execution_count": 15,
   "metadata": {},
   "outputs": [
    {
     "data": {
      "text/plain": [
       "<matplotlib.collections.PathCollection at 0x23c1c238430>"
      ]
     },
     "execution_count": 15,
     "metadata": {},
     "output_type": "execute_result"
    },
    {
     "data": {
      "image/png": "[encoded data removed]",
      "text/plain": [
       "<Figure size 432x288 with 1 Axes>"
      ]
     },
     "metadata": {
      "needs_background": "light"
     },
     "output_type": "display_data"
    }
   ],
   "source": [
    "#print(X[:,1])#Spending Score\n",
    "#X[:,0]#Annual Income\n",
    "plt.scatter(X[:,0],X[:,1])#Annual Income, Spending Score"
   ]
  },
  {
   "cell_type": "code",
   "execution_count": 16,
   "metadata": {},
   "outputs": [
    {
     "data": {
      "text/plain": [
       "array([0.        , 0.        , 0.00819672, 0.00819672, 0.01639344,\n",
       "       0.01639344, 0.02459016, 0.02459016, 0.03278689, 0.03278689,\n",
       "       0.03278689, 0.03278689, 0.04098361, 0.04098361, 0.04098361,\n",
       "       0.04098361, 0.04918033, 0.04918033, 0.06557377, 0.06557377,\n",
       "       0.07377049, 0.07377049, 0.08196721, 0.08196721, 0.10655738,\n",
       "       0.10655738, 0.10655738, 0.10655738, 0.1147541 , 0.1147541 ,\n",
       "       0.12295082, 0.12295082, 0.14754098, 0.14754098, 0.14754098,\n",
       "       0.14754098, 0.1557377 , 0.1557377 , 0.18032787, 0.18032787,\n",
       "       0.18852459, 0.18852459, 0.19672131, 0.19672131, 0.19672131,\n",
       "       0.19672131, 0.20491803, 0.20491803, 0.20491803, 0.20491803,\n",
       "       0.22131148, 0.22131148, 0.2295082 , 0.2295082 , 0.2295082 ,\n",
       "       0.2295082 , 0.23770492, 0.23770492, 0.25409836, 0.25409836,\n",
       "       0.25409836, 0.25409836, 0.26229508, 0.26229508, 0.2704918 ,\n",
       "       0.2704918 , 0.2704918 , 0.2704918 , 0.2704918 , 0.2704918 ,\n",
       "       0.27868852, 0.27868852, 0.28688525, 0.28688525, 0.31967213,\n",
       "       0.31967213, 0.31967213, 0.31967213, 0.31967213, 0.31967213,\n",
       "       0.31967213, 0.31967213, 0.31967213, 0.31967213, 0.31967213,\n",
       "       0.31967213, 0.3442623 , 0.3442623 , 0.35245902, 0.35245902,\n",
       "       0.36065574, 0.36065574, 0.36885246, 0.36885246, 0.36885246,\n",
       "       0.36885246, 0.36885246, 0.36885246, 0.37704918, 0.37704918,\n",
       "       0.3852459 , 0.3852459 , 0.3852459 , 0.3852459 , 0.3852459 ,\n",
       "       0.3852459 , 0.39344262, 0.39344262, 0.39344262, 0.39344262,\n",
       "       0.39344262, 0.39344262, 0.40163934, 0.40163934, 0.40983607,\n",
       "       0.40983607, 0.40983607, 0.40983607, 0.42622951, 0.42622951,\n",
       "       0.42622951, 0.42622951, 0.44262295, 0.44262295, 0.45081967,\n",
       "       0.45081967, 0.45901639, 0.45901639, 0.45901639, 0.45901639,\n",
       "       0.45901639, 0.45901639, 0.46721311, 0.46721311, 0.47540984,\n",
       "       0.47540984, 0.47540984, 0.47540984, 0.48360656, 0.48360656,\n",
       "       0.49180328, 0.49180328, 0.5       , 0.5       , 0.50819672,\n",
       "       0.50819672, 0.50819672, 0.50819672, 0.51639344, 0.51639344,\n",
       "       0.51639344, 0.51639344, 0.51639344, 0.51639344, 0.51639344,\n",
       "       0.51639344, 0.51639344, 0.51639344, 0.51639344, 0.51639344,\n",
       "       0.52459016, 0.52459016, 0.54098361, 0.54098361, 0.57377049,\n",
       "       0.57377049, 0.58196721, 0.58196721, 0.59016393, 0.59016393,\n",
       "       0.59016393, 0.59016393, 0.59016393, 0.59016393, 0.59836066,\n",
       "       0.59836066, 0.59836066, 0.59836066, 0.63934426, 0.63934426,\n",
       "       0.67213115, 0.67213115, 0.68032787, 0.68032787, 0.68852459,\n",
       "       0.68852459, 0.70491803, 0.70491803, 0.72131148, 0.72131148,\n",
       "       0.72131148, 0.72131148, 0.80327869, 0.80327869, 0.86065574,\n",
       "       0.86065574, 0.90983607, 0.90983607, 1.        , 1.        ])"
      ]
     },
     "execution_count": 16,
     "metadata": {},
     "output_type": "execute_result"
    }
   ],
   "source": [
    "X[:,0]     #Income, Spending_Score"
   ]
  },
  {
   "cell_type": "code",
   "execution_count": 17,
   "metadata": {},
   "outputs": [
    {
     "data": {
      "text/plain": [
       "array([2, 3, 2, 3, 2, 3, 2, 3, 2, 3, 2, 3, 2, 3, 2, 3, 2, 3, 2, 3, 2, 3,\n",
       "       2, 3, 2, 3, 2, 3, 2, 3, 2, 3, 2, 3, 2, 3, 2, 3, 2, 3, 2, 3, 2, 0,\n",
       "       2, 3, 0, 0, 0, 0, 0, 0, 0, 0, 0, 0, 0, 0, 0, 0, 0, 0, 0, 0, 0, 0,\n",
       "       0, 0, 0, 0, 0, 0, 0, 0, 0, 0, 0, 0, 0, 0, 0, 0, 0, 0, 0, 0, 0, 0,\n",
       "       0, 0, 0, 0, 0, 0, 0, 0, 0, 0, 0, 0, 0, 0, 0, 0, 0, 0, 0, 0, 0, 0,\n",
       "       0, 0, 0, 0, 0, 0, 0, 0, 0, 0, 0, 0, 0, 4, 1, 4, 0, 4, 1, 4, 1, 4,\n",
       "       0, 4, 1, 4, 1, 4, 1, 4, 1, 4, 0, 4, 1, 4, 1, 4, 1, 4, 1, 4, 1, 4,\n",
       "       1, 4, 1, 4, 1, 4, 1, 4, 1, 4, 1, 4, 1, 4, 1, 4, 1, 4, 1, 4, 1, 4,\n",
       "       1, 4, 1, 4, 1, 4, 1, 4, 1, 4, 1, 4, 1, 4, 1, 4, 1, 4, 1, 4, 1, 4,\n",
       "       1, 4])"
      ]
     },
     "execution_count": 17,
     "metadata": {},
     "output_type": "execute_result"
    }
   ],
   "source": [
    "y_kmeans"
   ]
  },
  {
   "cell_type": "code",
   "execution_count": 18,
   "metadata": {},
   "outputs": [
    {
     "data": {
      "text/plain": [
       "array([2, 3, 2, 3, 2, 3, 2, 3, 2, 3, 2, 3, 2, 3, 2, 3, 2, 3, 2, 3, 2, 3,\n",
       "       2, 3, 2, 3, 2, 3, 2, 3, 2, 3, 2, 3, 2, 3, 2, 3, 2, 3, 2, 3, 2, 0,\n",
       "       2, 3, 0, 0, 0, 0, 0, 0, 0, 0, 0, 0, 0, 0, 0, 0, 0, 0, 0, 0, 0, 0,\n",
       "       0, 0, 0, 0, 0, 0, 0, 0, 0, 0, 0, 0, 0, 0, 0, 0, 0, 0, 0, 0, 0, 0,\n",
       "       0, 0, 0, 0, 0, 0, 0, 0, 0, 0, 0, 0, 0, 0, 0, 0, 0, 0, 0, 0, 0, 0,\n",
       "       0, 0, 0, 0, 0, 0, 0, 0, 0, 0, 0, 0, 0, 4, 1, 4, 0, 4, 1, 4, 1, 4,\n",
       "       0, 4, 1, 4, 1, 4, 1, 4, 1, 4, 0, 4, 1, 4, 1, 4, 1, 4, 1, 4, 1, 4,\n",
       "       1, 4, 1, 4, 1, 4, 1, 4, 1, 4, 1, 4, 1, 4, 1, 4, 1, 4, 1, 4, 1, 4,\n",
       "       1, 4, 1, 4, 1, 4, 1, 4, 1, 4, 1, 4, 1, 4, 1, 4, 1, 4, 1, 4, 1, 4,\n",
       "       1, 4])"
      ]
     },
     "execution_count": 18,
     "metadata": {},
     "output_type": "execute_result"
    }
   ],
   "source": [
    "kmeans.labels_"
   ]
  },
  {
   "cell_type": "markdown",
   "metadata": {
    "colab_type": "text",
    "id": "e7YrS1JAMFnm"
   },
   "source": [
    "## Visualising the clusters"
   ]
  },
  {
   "cell_type": "code",
   "execution_count": 19,
   "metadata": {
    "colab": {
     "base_uri": "https://localhost:8080/",
     "height": 295
    },
    "colab_type": "code",
    "executionInfo": {
     "elapsed": 2048,
     "status": "ok",
     "timestamp": 1586372929246,
     "user": {
      "displayName": "Hadelin de Ponteves",
      "photoUrl": "https://lh3.googleusercontent.com/a-/AOh14GhEuXdT7eQweUmRPW8_laJuPggSK6hfvpl5a6WBaA=s64",
      "userId": "15047218817161520419"
     },
     "user_tz": -240
    },
    "id": "d0ZYecccMHNx",
    "outputId": "01079a1c-4593-4c3e-8c0c-47229c27cd84"
   },
   "outputs": [
    {
     "data": {
      "image/png": "[encoded data removed]",
      "text/plain": [
       "<Figure size 432x288 with 1 Axes>"
      ]
     },
     "metadata": {
      "needs_background": "light"
     },
     "output_type": "display_data"
    }
   ],
   "source": [
    "plt.scatter(X[y_kmeans == 0, 0], X[y_kmeans == 0, 1], s = 100, c = 'red', label = 'Cluster 1')\n",
    "plt.scatter(X[y_kmeans == 1, 0], X[y_kmeans == 1, 1], s = 100, c = 'blue', label = 'Cluster 2')\n",
    "plt.scatter(X[y_kmeans == 2, 0], X[y_kmeans == 2, 1], s = 100, c = 'green', label = 'Cluster 3')\n",
    "plt.scatter(X[y_kmeans == 3, 0], X[y_kmeans == 3, 1], s = 100, c = 'cyan', label = 'Cluster 4')\n",
    "plt.scatter(X[y_kmeans == 4, 0], X[y_kmeans == 4, 1], s = 100, c = 'magenta', label = 'Cluster 5')\n",
    "#plt.scatter(X[y_kmeans == 5, 0], X[y_kmeans == 5, 1], s = 100, c = 'black', label = 'Cluster 6') # If included 6 K's\n",
    "#plt.scatter(X[y_kmeans == 6, 0], X[y_kmeans == 6, 1], s = 100, c = 'orange', label = 'Cluster 7') # If included 7 K's\n",
    "plt.scatter(kmeans.cluster_centers_[:, 0], kmeans.cluster_centers_[:, 1], s = 300, c = 'yellow', label = 'Centroids')\n",
    "plt.title('Clusters of customers')\n",
    "plt.xlabel('Annual Income (k$)')\n",
    "plt.ylabel('Spending Score (1-100)')\n",
    "#plt.legend()\n",
    "plt.show()"
   ]
  },
  {
   "cell_type": "code",
   "execution_count": 20,
   "metadata": {},
   "outputs": [
    {
     "data": {
      "text/plain": [
       "0.5594854531227246"
      ]
     },
     "execution_count": 20,
     "metadata": {},
     "output_type": "execute_result"
    }
   ],
   "source": [
    "#Checking the accuracy with Silhoutte Score\n",
    "from sklearn.metrics import silhouette_score\n",
    "\n",
    "silhouette_score(X,kmeans.labels_)#-1 to 1"
   ]
  },
  {
   "cell_type": "markdown",
   "metadata": {},
   "source": [
    "## EVALUATION OF THE MODEL METRICS\n",
    "\n",
    "* Here silhouette_score (sklearn.metrics)is used for the data set for measuring the mean of the Silhouette Coefficient for each sample belonging to different clusters. \n",
    "* Silhouette score for a set of sample data points is used to measure how dense and well-separated the clusters are.\n",
    "* The silhouette score falls within the range [-1,1]. In above we got 0.5594 score. \n",
    "* The silhouette score of 1 means that the clusters are very dense and nicely separated. The score of 0 means that clusters are overlapping. The score of less than 0 means that data belonging to clusters may be wrong/incorrect."
   ]
  },
  {
   "cell_type": "code",
   "execution_count": null,
   "metadata": {},
   "outputs": [],
   "source": []
  }
 ],
 "metadata": {
  "colab": {
   "authorship_tag": "ABX9TyN979dFKn9B6Ro9v0hJ4uqU",
   "name": "K-Means Clustering",
   "provenance": [],
   "toc_visible": true
  },
  "kernelspec": {
   "display_name": "Python 3",
   "language": "python",
   "name": "python3"
  },
  "language_info": {
   "codemirror_mode": {
    "name": "ipython",
    "version": 3
   },
   "file_extension": ".py",
   "mimetype": "text/x-python",
   "name": "python",
   "nbconvert_exporter": "python",
   "pygments_lexer": "ipython3",
   "version": "3.8.8"
  }
 },
 "nbformat": 4,
 "nbformat_minor": 4
}
